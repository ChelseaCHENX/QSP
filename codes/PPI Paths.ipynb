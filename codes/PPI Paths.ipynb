{
 "cells": [
  {
   "cell_type": "code",
   "execution_count": 2,
   "metadata": {},
   "outputs": [],
   "source": [
    "from utils import *"
   ]
  },
  {
   "cell_type": "code",
   "execution_count": 3,
   "metadata": {},
   "outputs": [
    {
     "data": {
      "text/html": [
       "<div>\n",
       "<style scoped>\n",
       "    .dataframe tbody tr th:only-of-type {\n",
       "        vertical-align: middle;\n",
       "    }\n",
       "\n",
       "    .dataframe tbody tr th {\n",
       "        vertical-align: top;\n",
       "    }\n",
       "\n",
       "    .dataframe thead th {\n",
       "        text-align: right;\n",
       "    }\n",
       "</style>\n",
       "<table border=\"1\" class=\"dataframe\">\n",
       "  <thead>\n",
       "    <tr style=\"text-align: right;\">\n",
       "      <th></th>\n",
       "      <th># protein1</th>\n",
       "      <th>protein2</th>\n",
       "      <th>tissue</th>\n",
       "      <th>Protein1_symbol</th>\n",
       "      <th>Protein2_symbol</th>\n",
       "    </tr>\n",
       "  </thead>\n",
       "  <tbody>\n",
       "    <tr>\n",
       "      <th>0</th>\n",
       "      <td>4790</td>\n",
       "      <td>79155</td>\n",
       "      <td>lung</td>\n",
       "      <td>NFKB1</td>\n",
       "      <td>TNIP2</td>\n",
       "    </tr>\n",
       "    <tr>\n",
       "      <th>1</th>\n",
       "      <td>154796</td>\n",
       "      <td>7408</td>\n",
       "      <td>lung</td>\n",
       "      <td>AMOT</td>\n",
       "      <td>VASP</td>\n",
       "    </tr>\n",
       "    <tr>\n",
       "      <th>2</th>\n",
       "      <td>26039</td>\n",
       "      <td>6597</td>\n",
       "      <td>lung</td>\n",
       "      <td>SS18L1</td>\n",
       "      <td>SMARCA4</td>\n",
       "    </tr>\n",
       "    <tr>\n",
       "      <th>3</th>\n",
       "      <td>57154</td>\n",
       "      <td>3309</td>\n",
       "      <td>lung</td>\n",
       "      <td>SMURF1</td>\n",
       "      <td>HSPA5</td>\n",
       "    </tr>\n",
       "    <tr>\n",
       "      <th>4</th>\n",
       "      <td>6498</td>\n",
       "      <td>7329</td>\n",
       "      <td>lung</td>\n",
       "      <td>SKIL</td>\n",
       "      <td>UBE2I</td>\n",
       "    </tr>\n",
       "    <tr>\n",
       "      <th>...</th>\n",
       "      <td>...</td>\n",
       "      <td>...</td>\n",
       "      <td>...</td>\n",
       "      <td>...</td>\n",
       "      <td>...</td>\n",
       "    </tr>\n",
       "    <tr>\n",
       "      <th>51661</th>\n",
       "      <td>79228</td>\n",
       "      <td>9775</td>\n",
       "      <td>lung</td>\n",
       "      <td>THOC6</td>\n",
       "      <td>EIF4A3</td>\n",
       "    </tr>\n",
       "    <tr>\n",
       "      <th>51662</th>\n",
       "      <td>662</td>\n",
       "      <td>8878</td>\n",
       "      <td>lung</td>\n",
       "      <td>BNIP1</td>\n",
       "      <td>SQSTM1</td>\n",
       "    </tr>\n",
       "    <tr>\n",
       "      <th>51663</th>\n",
       "      <td>57521</td>\n",
       "      <td>253260</td>\n",
       "      <td>lung</td>\n",
       "      <td>RPTOR</td>\n",
       "      <td>RICTOR</td>\n",
       "    </tr>\n",
       "    <tr>\n",
       "      <th>51664</th>\n",
       "      <td>267</td>\n",
       "      <td>488</td>\n",
       "      <td>lung</td>\n",
       "      <td>AMFR</td>\n",
       "      <td>ATP2A2</td>\n",
       "    </tr>\n",
       "    <tr>\n",
       "      <th>51665</th>\n",
       "      <td>2997</td>\n",
       "      <td>3216</td>\n",
       "      <td>lung</td>\n",
       "      <td>GYS1</td>\n",
       "      <td>HOXB6</td>\n",
       "    </tr>\n",
       "  </tbody>\n",
       "</table>\n",
       "<p>51666 rows × 5 columns</p>\n",
       "</div>"
      ],
      "text/plain": [
       "       # protein1  protein2 tissue Protein1_symbol Protein2_symbol\n",
       "0            4790     79155   lung           NFKB1           TNIP2\n",
       "1          154796      7408   lung            AMOT            VASP\n",
       "2           26039      6597   lung          SS18L1         SMARCA4\n",
       "3           57154      3309   lung          SMURF1           HSPA5\n",
       "4            6498      7329   lung            SKIL           UBE2I\n",
       "...           ...       ...    ...             ...             ...\n",
       "51661       79228      9775   lung           THOC6          EIF4A3\n",
       "51662         662      8878   lung           BNIP1          SQSTM1\n",
       "51663       57521    253260   lung           RPTOR          RICTOR\n",
       "51664         267       488   lung            AMFR          ATP2A2\n",
       "51665        2997      3216   lung            GYS1           HOXB6\n",
       "\n",
       "[51666 rows x 5 columns]"
      ]
     },
     "execution_count": 3,
     "metadata": {},
     "output_type": "execute_result"
    }
   ],
   "source": [
    "bg = pd.read_csv('../data/drugs/PPI_lung.txt',sep='\\t')\n",
    "bg"
   ]
  },
  {
   "cell_type": "code",
   "execution_count": 4,
   "metadata": {
    "scrolled": true
   },
   "outputs": [
    {
     "data": {
      "text/plain": [
       "array(['AP3B1', 'BRD4', 'BRD2', 'CWC27', 'ZC3H18', 'SLC44A2', 'PMPCB',\n",
       "       'YIF1A', 'ATP1B1', 'ACADM', 'ETFA', 'STOM', 'GGCX', 'ATP6V1A',\n",
       "       'PSMD8', 'REEP5', 'PMPCA', 'ANO6', 'PITRM1', 'SLC30A9', 'FASTKD5',\n",
       "       'SLC30A7', 'TUBGCP3', 'COQ8B', 'SAAL1', 'REEP6', 'INTS4',\n",
       "       'SLC25A21', 'TUBGCP2', 'TARS2', 'RTN4', 'FAM8A1', 'AASS', 'AKAP8L',\n",
       "       'AAR2', 'BZW2', 'RRP9', 'PABPC1', 'CSNK2A2', 'CSNK2B', 'G3BP1',\n",
       "       'PABPC4', 'LARP1', 'FAM98A', 'SNIP1', 'UPF1', 'MOV10', 'G3BP2',\n",
       "       'DDX21', 'RBM28', 'RPL36', 'GOLGA7', 'ZDHHC5', 'POLA1', 'PRIM1',\n",
       "       'PRIM2', 'POLA2', 'COLGALT1', 'PKP2', 'AP2A2', 'GFER', 'ERGIC1',\n",
       "       'AP2M1', 'GRPEL1', 'TBCA', 'SBNO1', 'BCKDK', 'AKAP8', 'MYCBP2',\n",
       "       'SLU7', 'RIPK1', 'UBAP2L', 'TYSND1', 'PDZD11', 'PRRC2B', 'UBAP2',\n",
       "       'ZNF318', 'CRTC3', 'USP54', 'ZC3H7A', 'LARP4B', 'RBM41', 'TCF12',\n",
       "       'PPIL3', 'PLEKHA5', 'TBKBP1', 'CIT', 'HSBP1', 'PCNT', 'CEP43',\n",
       "       'PRKAR2A', 'PRKACA', 'PRKAR2B', 'RDX', 'CENPF', 'TLE1', 'TLE3',\n",
       "       'TLE5', 'GOLGA3', 'GOLGA2', 'GOLGB1', 'GRIPAP1', 'CEP350',\n",
       "       'PDE4DIP', 'CEP135', 'CEP68', 'CNTRL', 'ERC1', 'GCC2', 'CLIP4',\n",
       "       'NIN', 'CEP112', 'MIPOL1', 'USP13', 'GCC1', 'JAKMIP1', 'CDK5RAP2',\n",
       "       'AKAP9', 'GORASP1', 'FYCO1', 'C1orf50', 'CEP250', 'TBK1', 'HOOK1',\n",
       "       'NINL', 'GLA', 'IMPDH2', 'SIRT5', 'NUTF2', 'ARF6', 'RNF41',\n",
       "       'SLC27A2', 'EIF4E2', 'POR', 'RAP1GDS1', 'WASHC4', 'FKBP15',\n",
       "       'GIGYF2', 'IDE', 'TIMM10', 'ALG11', 'NUP210', 'TIMM29', 'DNAJC11',\n",
       "       'TIMM10B', 'TIMM9', 'HDAC2', 'GPX1', 'TRMT1', 'ATP5MG', 'ATP6AP1',\n",
       "       'SIGMAR1', 'ATP13A3', 'AGPS', 'CYB5B', 'ACSL3', 'CYB5R3', 'RALA',\n",
       "       'COMT', 'RAB5C', 'RAB7A', 'RAB8A', 'RAB2A', 'RAB10', 'RAB14',\n",
       "       'RHOA', 'RAB1A', 'GNB1', 'GNG5', 'LMAN2', 'MOGS', 'TOR1AIP1',\n",
       "       'MTARC1', 'QSOX2', 'HS2ST1', 'NDUFAF2', 'SCCPDH', 'SCARB1',\n",
       "       'NAT14', 'DCAKD', 'FAM162A', 'DNAJC19', 'SELENOS', 'PTGES2',\n",
       "       'RAB18', 'MPHOSPH10', 'SRP72', 'ATE1', 'NSD2', 'SRP19', 'SRP54',\n",
       "       'MRPS25', 'DDX10', 'LARP7', 'MEPCE', 'NGDN', 'EXOSC8', 'NARS2',\n",
       "       'NOL10', 'CCDC86', 'SEPSECS', 'EXOSC5', 'EXOSC3', 'AATF', 'HECTD1',\n",
       "       'MRPS2', 'MRPS5', 'EXOSC2', 'MRPS27', 'GTF2F2', 'FBN1', 'FBN2',\n",
       "       'NUP214', 'NUP62', 'DCAF7', 'EIF4H', 'NUP54', 'MIB1', 'SPART',\n",
       "       'NEK9', 'ZNF503', 'NUP88', 'NUP58', 'MAT2B', 'FBLN5', 'PPT1',\n",
       "       'CUL2', 'MAP7D1', 'THTPA', 'ZYG11B', 'TIMM8B', 'RBX1', 'ELOC',\n",
       "       'ELOB', 'HMOX1', 'TRIM59', 'ARL6IP6', 'VPS39', 'CLCC1', 'VPS11',\n",
       "       'SUN2', 'ALG5', 'STOML2', 'NUP98', 'RAE1', 'MTCH1', 'HEATR3',\n",
       "       'MDN1', 'PLOD2', 'TOR1A', 'STC2', 'PLAT', 'ITGB1', 'CISD3',\n",
       "       'COL6A1', 'PVR', 'DNMT1', 'LOX', 'PCSK6', 'INHBE', 'NPC2', 'MFGE8',\n",
       "       'OS9', 'NPTX1', 'POGLUT2', 'POGLUT3', 'ERO1B', 'PLD3', 'FOXRED2',\n",
       "       'CHPF', 'PUSL1', 'EMC1', 'GGH', 'ERLEC1', 'IL17RA', 'NGLY1',\n",
       "       'HS6ST2', 'SDF2', 'NEU1', 'GDF15', 'TM2D3', 'ERP44', 'EDEM3',\n",
       "       'SIL1', 'POFUT1', 'SMOC1', 'PLEKHF2', 'FBXL12', 'UGGT2', 'CHPF2',\n",
       "       'ADAMTS1', 'HYOU1', 'FKBP7', 'ADAM9', 'FKBP10', 'SLC9A3R1',\n",
       "       'CHMP2A', 'CSDE1', 'TOMM70', 'MARK3', 'MARK2', 'DPH5', 'DCTPP1',\n",
       "       'MARK1', 'PTBP2', 'BAG5', 'UBXN8', 'GPAA1', 'WFS1', 'ABCC1',\n",
       "       'F2RL1', 'SCAP', 'DPY19L1', 'TMEM97', 'SLC30A6', 'TAPT1', 'ERMP1',\n",
       "       'NLRX1', 'RETREG3', 'PIGO', 'FAR2', 'ECSIT', 'ALG8', 'TMEM39B',\n",
       "       'GHITM', 'ACAD9', 'NDFIP2', 'BCS1L', 'NDUFAF1', 'TMED5', 'NDUFB9',\n",
       "       'PIGS'], dtype=object)"
      ]
     },
     "execution_count": 4,
     "metadata": {},
     "output_type": "execute_result"
    }
   ],
   "source": [
    "host = np.loadtxt('../data/drugs/332_proteins.txt',dtype='object')\n",
    "host"
   ]
  },
  {
   "cell_type": "markdown",
   "metadata": {},
   "source": [
    "# Drugs"
   ]
  },
  {
   "cell_type": "code",
   "execution_count": 32,
   "metadata": {},
   "outputs": [
    {
     "data": {
      "text/plain": [
       "['ADRB1', 'ADRB2', 'ADRB3']"
      ]
     },
     "execution_count": 32,
     "metadata": {},
     "output_type": "execute_result"
    }
   ],
   "source": [
    "drug = 'Salmeterol'\n",
    "\n",
    "tmp = pd.read_csv('../data/drugs/m3-cell-entry-known90.csv')\n",
    "targets = tmp[tmp['drug']==drug]['targets']\n",
    "targets = [x.replace(\"'\", '') for x in targets.values[0].split(', ')]\n",
    "targets"
   ]
  },
  {
   "cell_type": "code",
   "execution_count": 40,
   "metadata": {},
   "outputs": [
    {
     "name": "stdout",
     "output_type": "stream",
     "text": [
      "ADRB2 as prot2 has 6 baits\n",
      "SLC9A3R1 in host net\n",
      "\n",
      "ADRB2 as prot1 has 110 baits\n",
      "RNF41 in host net\n",
      "STOM in host net\n",
      "PRKACA in host net\n",
      "GNB1 in host net\n"
     ]
    }
   ],
   "source": [
    "for t in targets:\n",
    "    prot_list = bg[bg['Protein2_symbol']==t]['Protein1_symbol'].values\n",
    "    if prot_list.shape[0] > 0:\n",
    "        print(t, 'as prot2 has', len(prot_list), 'baits')\n",
    "        for prot in prot_list:\n",
    "            if prot in host:\n",
    "                print(prot, 'in host net\\n')\n",
    "                \n",
    "    prot_list = bg[bg['Protein1_symbol']==t]['Protein2_symbol'].values\n",
    "    if prot_list.shape[0] > 0:\n",
    "        print(t, 'as prot1 has', len(prot_list), 'baits')\n",
    "        for prot in prot_list:\n",
    "            if prot in host:\n",
    "                print(prot,'in host net')                "
   ]
  },
  {
   "cell_type": "markdown",
   "metadata": {},
   "source": [
    "1. Salmeterol => induce autophagy and reduce Dengue virus [link](https://www.ncbi.nlm.nih.gov/pmc/articles/PMC5075077/)\n",
    "\n",
    "2. Autophagy and Coronavirus\n",
    "\n",
    "2.1 Autophagy-inducing substances – including certain licensed drugs – have demonstrated efficacy in drastically reducing the rate at which the virus replicates. [report](https://www.drugtargetreview.com/news/55567/autophagy-the-key-to-effective-mers-coronavirus-treatment/); [nature](https://www.nature.com/articles/s41467-019-13659-4)\n",
    "> “This result clearly indicated that the MERS pathogen benefits from an attenuation of the cellular recycling process,” explained PD Dr Müller\n",
    "\n",
    "2.2 Also studies showing KD of ATG genes do not affect SARS-CoV [review link](https://www.ijbs.com/v16p1724.htm#B32)\n",
    "\n",
    "2.3 Drugs targeting autophagy were suggested [here](https://pharma.elsevier.com/pharma-rd/three-drug-development-strategies-to-combat-2019-novel-coronavirus/)\n",
    "2.4 Review [link](https://www.ncbi.nlm.nih.gov/pmc/articles/PMC3528273/)\n",
    "3. ADRB2 => + cAMP => activate PRKACA (cAMP dependent protein kinase A) => + autophagic activity, esp lysosoomal degradation (via RAB7) [link](http://europepmc.org/article/PMC/3748194)\n",
    ">we reveal that the activation of ADRB2 signaling pathway markedly increases the autophagic activity that targets LDs for lysosomal degradation and contributes in part to the ADRB2-cAMP-stimulated lipolysis in fat cells. We further demonstrate that RAB7 is essential for the recruitment of autophagic components onto the LD surface\n",
    "\n",
    "4. SARS-CoV2 nsp13\tP17612\tPRKACA\t(from 332 PPI)"
   ]
  },
  {
   "cell_type": "code",
   "execution_count": 12,
   "metadata": {},
   "outputs": [
    {
     "data": {
      "text/plain": [
       "['PLK3',\n",
       " 'MYLK',\n",
       " 'PLK2',\n",
       " 'PIK3CD',\n",
       " 'PIK3CB',\n",
       " 'MTOR',\n",
       " 'PLK4',\n",
       " 'PLK5',\n",
       " 'PRKDC',\n",
       " 'PIK3CG',\n",
       " 'PLK1',\n",
       " 'PIK3R1',\n",
       " 'PIK3CA']"
      ]
     },
     "execution_count": 12,
     "metadata": {},
     "output_type": "execute_result"
    }
   ],
   "source": [
    "drug = 'Wortmannin'\n",
    "\n",
    "tmp = pd.read_csv('../data/drugs/m2-immune-known90.csv')\n",
    "targets = tmp[tmp['drug']==drug]['targets']\n",
    "targets = [x.replace(\"'\", '') for x in targets.values[0].split(', ')]\n",
    "targets"
   ]
  },
  {
   "cell_type": "code",
   "execution_count": 13,
   "metadata": {},
   "outputs": [
    {
     "name": "stdout",
     "output_type": "stream",
     "text": [
      "MYLK as prot2 has 14 baits\n",
      "MYLK as prot1 has 21 baits\n",
      "PTBP2 in host net\n",
      "PRKACA in host net\n",
      "PLK2 as prot2 has 2 baits\n",
      "PLK2 as prot1 has 10 baits\n",
      "PIK3CD as prot2 has 4 baits\n",
      "PIK3CD as prot1 has 6 baits\n",
      "PIK3CB as prot2 has 16 baits\n",
      "PIK3CB as prot1 has 8 baits\n",
      "EXOSC5 in host net\n",
      "MTOR as prot2 has 49 baits\n",
      "MOV10 in host net\n",
      "\n",
      "MTOR as prot1 has 28 baits\n",
      "GNB1 in host net\n",
      "PRKDC as prot2 has 97 baits\n",
      "FOXRED2 in host net\n",
      "\n",
      "PRKDC as prot1 has 64 baits\n",
      "SRP54 in host net\n",
      "PIK3R1 as prot2 has 86 baits\n",
      "BRD4 in host net\n",
      "\n",
      "PIK3R1 as prot1 has 48 baits\n",
      "PIK3CA as prot2 has 26 baits\n",
      "PIK3CA as prot1 has 17 baits\n",
      "SLC9A3R1 in host net\n"
     ]
    }
   ],
   "source": [
    "for t in targets:\n",
    "    prot_list = bg[bg['Protein2_symbol']==t]['Protein1_symbol'].values\n",
    "    if prot_list.shape[0] > 0:\n",
    "        print(t, 'as prot2 has', len(prot_list), 'baits')\n",
    "        for prot in prot_list:\n",
    "            if prot in host:\n",
    "                print(prot, 'in host net\\n')\n",
    "                \n",
    "    prot_list = bg[bg['Protein1_symbol']==t]['Protein2_symbol'].values\n",
    "    if prot_list.shape[0] > 0:\n",
    "        print(t, 'as prot1 has', len(prot_list), 'baits')\n",
    "        for prot in prot_list:\n",
    "            if prot in host:\n",
    "                print(prot,'in host net')                "
   ]
  },
  {
   "cell_type": "code",
   "execution_count": 9,
   "metadata": {
    "scrolled": true
   },
   "outputs": [
    {
     "data": {
      "text/plain": [
       "['PLK3',\n",
       " 'MYLK',\n",
       " 'PLK2',\n",
       " 'PIK3CD',\n",
       " 'PIK3CB',\n",
       " 'MTOR',\n",
       " 'PLK4',\n",
       " 'PLK5',\n",
       " 'PRKDC',\n",
       " 'PIK3CG',\n",
       " 'PLK1',\n",
       " 'PIK3R1',\n",
       " 'PIK3CA']"
      ]
     },
     "execution_count": 9,
     "metadata": {},
     "output_type": "execute_result"
    }
   ],
   "source": [
    "drug = 'Wortmannin'\n",
    "\n",
    "tmp = pd.read_csv('../data/drugs/m4-replication-known90.csv')\n",
    "targets = tmp[tmp['drug']==drug]['targets']\n",
    "targets = [x.replace(\"'\", '') for x in targets.values[0].split(', ')]\n",
    "targets"
   ]
  },
  {
   "cell_type": "code",
   "execution_count": 11,
   "metadata": {
    "scrolled": true
   },
   "outputs": [
    {
     "name": "stdout",
     "output_type": "stream",
     "text": [
      "MYLK as prot2 has 14 baits\n",
      "MYLK as prot1 has 21 baits\n",
      "PTBP2 in host net\n",
      "PRKACA in host net\n",
      "PLK2 as prot2 has 2 baits\n",
      "PLK2 as prot1 has 10 baits\n",
      "PIK3CD as prot2 has 4 baits\n",
      "PIK3CD as prot1 has 6 baits\n",
      "PIK3CB as prot2 has 16 baits\n",
      "PIK3CB as prot1 has 8 baits\n",
      "EXOSC5 in host net\n",
      "MTOR as prot2 has 49 baits\n",
      "MOV10 in host net\n",
      "\n",
      "MTOR as prot1 has 28 baits\n",
      "GNB1 in host net\n",
      "PRKDC as prot2 has 97 baits\n",
      "FOXRED2 in host net\n",
      "\n",
      "PRKDC as prot1 has 64 baits\n",
      "SRP54 in host net\n",
      "PIK3R1 as prot2 has 86 baits\n",
      "BRD4 in host net\n",
      "\n",
      "PIK3R1 as prot1 has 48 baits\n",
      "PIK3CA as prot2 has 26 baits\n",
      "PIK3CA as prot1 has 17 baits\n",
      "SLC9A3R1 in host net\n"
     ]
    }
   ],
   "source": [
    "for t in targets:\n",
    "    prot_list = bg[bg['Protein2_symbol']==t]['Protein1_symbol'].values\n",
    "    if prot_list.shape[0] > 0:\n",
    "        print(t, 'as prot2 has', len(prot_list), 'baits')\n",
    "        for prot in prot_list:\n",
    "            if prot in host:\n",
    "                print(prot, 'in host net\\n')\n",
    "                \n",
    "    prot_list = bg[bg['Protein1_symbol']==t]['Protein2_symbol'].values\n",
    "    if prot_list.shape[0] > 0:\n",
    "        print(t, 'as prot1 has', len(prot_list), 'baits')\n",
    "        for prot in prot_list:\n",
    "            if prot in host:\n",
    "                print(prot,'in host net')                "
   ]
  },
  {
   "cell_type": "markdown",
   "metadata": {},
   "source": [
    "- Wortmannin => MYLK => PTBP2 | PRKACA\n",
    "- Wortmannin => PIK3CB => EXOSC5\n",
    "- Wortmannin => MTOR => MOV10 | GNB1\n",
    "- Wortmannin => PRKDC => FOXRED2 | SRP54\n",
    "- Wortmannin => PIK3CA => SLC9A3R1\n",
    "\n",
    "- Path1 \\\\ no evi confirmed MYLK to downstream\n",
    "    - MYLK: myosin light chain kinase\n",
    "    - PTBP2: Polypyrimidine tract-binding protein 2 \n",
    "    > The protein encoded by this gene binds to intronic polypyrimidine clusters in pre-mRNA molecules and is implicated in controlling the assembly of other splicing-regulatory proteins.\n",
    "    \n",
    "- Path2\n",
    "    - PIK3CB: Phosphatidylinositol 4,5-bisphosphate 3-kinase catalytic subunit beta isoform\n",
    "    - EXOSC5 (Exosome Component 5) is a Protein Coding gene\n",
    "    \n",
    "- Path3\n",
    "    - MOV10: 5' to 3' RNA helicase contributing to UPF1 mRNA target degradation by translocation along 3' UTRs (PubMed:24726324)\n",
    "    - GNB1: G Protein Subunit Beta 1\n",
    "    \n",
    "- Path4\n",
    "    - PRKDC: Protein Kinase, DNA-Activated, Catalytic Subunit)\n",
    "    - FOXRED2: FOXRED2 (FAD Dependent Oxidoreductase Domain Containing 2) is a Protein Coding gene. Gene Ontology (GO) annotations related to this gene include oxidoreductase activity. An important paralog of this gene is FMO4\n",
    "    - SRP54: SRP54 binds to the signal sequence of presecretory protein when they emerge from the ribosomes.\n",
    "    \n",
    "- Path5\n",
    "    - SLC9A3R1: Na(+)/H(+) exchange regulatory cofactor NHE-RF1\n",
    "    "
   ]
  },
  {
   "cell_type": "code",
   "execution_count": null,
   "metadata": {},
   "outputs": [],
   "source": []
  }
 ],
 "metadata": {
  "kernelspec": {
   "display_name": "Python 3",
   "language": "python",
   "name": "python3"
  },
  "language_info": {
   "codemirror_mode": {
    "name": "ipython",
    "version": 3
   },
   "file_extension": ".py",
   "mimetype": "text/x-python",
   "name": "python",
   "nbconvert_exporter": "python",
   "pygments_lexer": "ipython3",
   "version": "3.7.6"
  },
  "toc": {
   "base_numbering": 1,
   "nav_menu": {},
   "number_sections": true,
   "sideBar": true,
   "skip_h1_title": false,
   "title_cell": "Table of Contents",
   "title_sidebar": "Contents",
   "toc_cell": false,
   "toc_position": {},
   "toc_section_display": true,
   "toc_window_display": false
  }
 },
 "nbformat": 4,
 "nbformat_minor": 4
}
