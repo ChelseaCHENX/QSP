{
 "cells": [
  {
   "cell_type": "markdown",
   "metadata": {},
   "source": [
    "# Header"
   ]
  },
  {
   "cell_type": "markdown",
   "metadata": {},
   "source": [
    "``` bash\n",
    "conda create --name py2 python=2.7\n",
    "source activate py2\n",
    "conda install numpy scipy networkx pandas\n",
    "\n",
    "conda install ipykernel\n",
    "python -m ipykernel install --user --name py2 --display-name \"py2\"\n",
    "```"
   ]
  },
  {
   "cell_type": "code",
   "execution_count": 28,
   "metadata": {
    "ExecuteTime": {
     "end_time": "2020-08-05T14:47:52.056287Z",
     "start_time": "2020-08-05T14:47:52.047119Z"
    }
   },
   "outputs": [],
   "source": [
    "from toolbox import wrappers\n",
    "import pandas as pd\n",
    "import numpy as np\n",
    "import pickle"
   ]
  },
  {
   "cell_type": "markdown",
   "metadata": {},
   "source": [
    "# String network"
   ]
  },
  {
   "cell_type": "markdown",
   "metadata": {},
   "source": [
    "## Background"
   ]
  },
  {
   "cell_type": "code",
   "execution_count": null,
   "metadata": {
    "ExecuteTime": {
     "end_time": "2020-08-05T01:27:42.176642Z",
     "start_time": "2020-08-05T01:25:27.841169Z"
    }
   },
   "outputs": [],
   "source": [
    "fname = \"../data/string/9606.protein.links.full.v11.0.txt\"\n",
    "net = pd.read_csv(fname,sep='\\s')\n",
    "print(net.shape)"
   ]
  },
  {
   "cell_type": "code",
   "execution_count": null,
   "metadata": {
    "ExecuteTime": {
     "end_time": "2020-08-05T02:18:21.524207Z",
     "start_time": "2020-08-05T02:18:21.418146Z"
    }
   },
   "outputs": [],
   "source": [
    "net.head(3)"
   ]
  },
  {
   "cell_type": "markdown",
   "metadata": {},
   "source": [
    "## Network weight (string combined score)"
   ]
  },
  {
   "cell_type": "code",
   "execution_count": null,
   "metadata": {
    "ExecuteTime": {
     "end_time": "2020-08-03T16:18:36.411689Z",
     "start_time": "2020-08-03T16:18:36.388870Z"
    }
   },
   "outputs": [],
   "source": [
    "from calc_string_combined_score import calc_combined_score"
   ]
  },
  {
   "cell_type": "code",
   "execution_count": null,
   "metadata": {
    "ExecuteTime": {
     "end_time": "2020-08-03T16:27:47.289455Z",
     "start_time": "2020-08-03T16:25:11.380219Z"
    }
   },
   "outputs": [],
   "source": [
    "combined_score_list = calc_combined_score()"
   ]
  },
  {
   "cell_type": "code",
   "execution_count": null,
   "metadata": {
    "ExecuteTime": {
     "end_time": "2020-08-03T16:28:16.250767Z",
     "start_time": "2020-08-03T16:27:47.295494Z"
    }
   },
   "outputs": [],
   "source": [
    "import pickle\n",
    "\n",
    "with open('../data/string/9606.protein.seleted_fields_combined_score.pkl', 'wb') as f:\n",
    "    pickle.dump(combined_score_list, f)  "
   ]
  },
  {
   "cell_type": "code",
   "execution_count": null,
   "metadata": {
    "ExecuteTime": {
     "end_time": "2020-08-03T17:09:15.551843Z",
     "start_time": "2020-08-03T17:09:15.530574Z"
    }
   },
   "outputs": [],
   "source": [
    "len(combined_score_list)"
   ]
  },
  {
   "cell_type": "code",
   "execution_count": null,
   "metadata": {
    "ExecuteTime": {
     "end_time": "2020-08-03T18:57:58.979633Z",
     "start_time": "2020-08-03T18:54:05.427094Z"
    }
   },
   "outputs": [],
   "source": [
    "# net['sel_combined_score'] = x\n",
    "with open('../data/string/9606.protein.seleted_fields_with_combined_score.pkl', 'wb') as f:\n",
    "    pickle.dump(net, f)  "
   ]
  },
  {
   "cell_type": "markdown",
   "metadata": {
    "ExecuteTime": {
     "end_time": "2020-08-03T13:57:21.786516Z",
     "start_time": "2020-08-03T13:57:21.084988Z"
    }
   },
   "source": [
    "The minimum required interaction score puts a threshold on the confidence score, such that only interaction above this score are included in the predicted network. Lower score mean more interaction, but also more false positives. The confidence score is the approximate probability that a predicted link exists between two enzymes in the same metabolic map in the KEGG database. Confidence limits are as follows:\n",
    "\n",
    "low confidence - 0.15 (or better),\n",
    "medium confidence - 0.4,\n",
    "high confidence - 0.7,\n",
    "highest confidence - 0.9.\n",
    "\n",
    "In the file: \"protein.links.txt\" are the scores multiplied by 1000?\n",
    "Yes, the scores are multiplies by a factor 1000 (and truncated). 872 in the file means a STRING score of 0.872"
   ]
  },
  {
   "cell_type": "markdown",
   "metadata": {},
   "source": [
    "## Select high confident edges\n",
    "Run from hereafter\n",
    "\n",
    "The minimum required interaction score puts a threshold on the confidence score, such that only interaction above this score are included in the predicted network. Lower score mean more interaction, but also more false positives. The confidence score is the approximate probability that a predicted link exists between two enzymes in the same metabolic map in the KEGG database. Confidence limits are as follows:\n",
    "\n",
    "- low confidence - 0.15 (or better),\n",
    "- medium confidence - 0.4,\n",
    "- high confidence - 0.7,\n",
    "- highest confidence - 0.9."
   ]
  },
  {
   "cell_type": "code",
   "execution_count": null,
   "metadata": {
    "ExecuteTime": {
     "start_time": "2020-08-05T00:35:17.605Z"
    }
   },
   "outputs": [],
   "source": [
    "net = pickle.load(open('../data/string/9606.protein.seleted_fields_with_combined_score.pkl','r'))\n",
    "print(net.shape)\n",
    "net.head(3)"
   ]
  },
  {
   "cell_type": "code",
   "execution_count": null,
   "metadata": {
    "ExecuteTime": {
     "end_time": "2020-08-05T02:19:53.130171Z",
     "start_time": "2020-08-05T02:19:53.067336Z"
    }
   },
   "outputs": [],
   "source": [
    "thres = 900 # \n",
    "snet = net[(net['coexpression']>thres) | (net['experiments']>thres) | (net['database']>thres)]\n",
    "print(snet.shape)\n",
    "print(snet['protein1'].unique().shape)\n",
    "snet.head(3)"
   ]
  },
  {
   "cell_type": "code",
   "execution_count": null,
   "metadata": {},
   "outputs": [],
   "source": []
  },
  {
   "cell_type": "code",
   "execution_count": null,
   "metadata": {
    "ExecuteTime": {
     "end_time": "2020-08-03T19:06:28.131189Z",
     "start_time": "2020-08-03T19:06:22.026680Z"
    }
   },
   "outputs": [],
   "source": [
    "with open('../data/network/9606.snet.pkl', 'wb') as f:\n",
    "    pickle.dump(snet, f)  "
   ]
  },
  {
   "cell_type": "code",
   "execution_count": null,
   "metadata": {
    "ExecuteTime": {
     "end_time": "2020-08-03T19:14:50.995750Z",
     "start_time": "2020-08-03T19:14:49.336345Z"
    }
   },
   "outputs": [],
   "source": [
    "snet['sel_combined_score'] = snet['sel_combined_score'] / 1000\n",
    "snet = snet[['protein1','sel_combined_score','protein2']]\n",
    "\n",
    "snet.to_csv('../data/network/9606.snet.sif', sep='\\t', header=False, index=False)"
   ]
  },
  {
   "cell_type": "markdown",
   "metadata": {},
   "source": [
    "## Target modules"
   ]
  },
  {
   "cell_type": "markdown",
   "metadata": {},
   "source": [
    "do online conversion from gene name to stringid on [here](https://string-db.org/cgi/input.pl?sessionId=iHDF0pGhGtH7&input_page_active_form=multiple_identifiers)\n",
    "\n",
    "results here ../data/string/string_mapping_*.tsv"
   ]
  },
  {
   "cell_type": "code",
   "execution_count": 23,
   "metadata": {
    "ExecuteTime": {
     "end_time": "2020-08-05T14:17:06.521843Z",
     "start_time": "2020-08-05T14:17:03.849069Z"
    },
    "scrolled": true
   },
   "outputs": [
    {
     "name": "stdout",
     "output_type": "stream",
     "text": [
      "Warning: Ignored extra columns in the file!\n",
      "Shrinking network to its LCC 12479 331370\n",
      "Final shape: 12107 331082\n"
     ]
    }
   ],
   "source": [
    "file_name = \"../data/network/9606.snet.sif\"\n",
    "network = wrappers.get_network(file_name, only_lcc = True, use_edge_data = True)\n",
    "net_nodes = set(network.nodes())"
   ]
  },
  {
   "cell_type": "code",
   "execution_count": 24,
   "metadata": {
    "ExecuteTime": {
     "end_time": "2020-08-05T14:17:29.118060Z",
     "start_time": "2020-08-05T14:17:29.099854Z"
    }
   },
   "outputs": [
    {
     "data": {
      "text/plain": [
       "294"
      ]
     },
     "execution_count": 24,
     "metadata": {},
     "output_type": "execute_result"
    }
   ],
   "source": [
    "m1 = pd.read_csv('../data/network/string_mapping_TargetModule_IFN.tsv',sep='\\t', index_col=1).index.tolist()\n",
    "m2 = pd.read_csv('../data/network/string_mapping_TargetModule_cytokine.tsv',sep='\\t', index_col=1).index.tolist()\n",
    "\n",
    "nodes_to = set(m1) | set(m2)\n",
    "len(nodes_to)"
   ]
  },
  {
   "cell_type": "code",
   "execution_count": 21,
   "metadata": {
    "ExecuteTime": {
     "end_time": "2020-08-05T14:15:17.995792Z",
     "start_time": "2020-08-05T14:15:17.983554Z"
    }
   },
   "outputs": [
    {
     "data": {
      "text/plain": [
       "462"
      ]
     },
     "execution_count": 21,
     "metadata": {},
     "output_type": "execute_result"
    }
   ],
   "source": [
    "source = pd.read_csv('../data/network/Both_targets.csv', index_col=0)\n",
    "nodes_from = list(set([x.strip() for l in source['Target'] for x in l.split(',')]))\n",
    "len(nodes_from)"
   ]
  },
  {
   "cell_type": "code",
   "execution_count": 30,
   "metadata": {
    "ExecuteTime": {
     "end_time": "2020-08-05T14:48:59.206128Z",
     "start_time": "2020-08-05T14:48:59.193962Z"
    }
   },
   "outputs": [
    {
     "data": {
      "text/plain": [
       "u'/home/fangyuan/home2/projects/qsp/codes'"
      ]
     },
     "execution_count": 30,
     "metadata": {},
     "output_type": "execute_result"
    }
   ],
   "source": [
    "pwd"
   ]
  },
  {
   "cell_type": "code",
   "execution_count": 29,
   "metadata": {
    "ExecuteTime": {
     "end_time": "2020-08-05T14:48:31.373280Z",
     "start_time": "2020-08-05T14:48:31.261869Z"
    }
   },
   "outputs": [
    {
     "ename": "IOError",
     "evalue": "../data/geneset/REACTOME_IMMUNE_SYSTEM.txt not found.",
     "output_type": "error",
     "traceback": [
      "\u001b[0;31m---------------------------------------------------------------------------\u001b[0m",
      "\u001b[0;31mIOError\u001b[0m                                   Traceback (most recent call last)",
      "\u001b[0;32m<ipython-input-29-11d41cae15c5>\u001b[0m in \u001b[0;36m<module>\u001b[0;34m()\u001b[0m\n\u001b[0;32m----> 1\u001b[0;31m \u001b[0mbg_nodes\u001b[0m \u001b[0;34m=\u001b[0m \u001b[0mnp\u001b[0m\u001b[0;34m.\u001b[0m\u001b[0mloadtxt\u001b[0m\u001b[0;34m(\u001b[0m\u001b[0;34m'../data/geneset/REACTOME_IMMUNE_SYSTEM.txt'\u001b[0m\u001b[0;34m,\u001b[0m\u001b[0mdtype\u001b[0m\u001b[0;34m=\u001b[0m\u001b[0;34m'object'\u001b[0m\u001b[0;34m)\u001b[0m\u001b[0;34m[\u001b[0m\u001b[0;36m2\u001b[0m\u001b[0;34m:\u001b[0m\u001b[0;34m]\u001b[0m\u001b[0;34m\u001b[0m\u001b[0m\n\u001b[0m\u001b[1;32m      2\u001b[0m \u001b[0mbg_nodes\u001b[0m\u001b[0;34m\u001b[0m\u001b[0m\n",
      "\u001b[0;32m/home/fangyuan/anaconda3/envs/py2/lib/python2.7/site-packages/numpy/lib/npyio.pyc\u001b[0m in \u001b[0;36mloadtxt\u001b[0;34m(fname, dtype, comments, delimiter, converters, skiprows, usecols, unpack, ndmin, encoding, max_rows)\u001b[0m\n\u001b[1;32m    960\u001b[0m             \u001b[0mfname\u001b[0m \u001b[0;34m=\u001b[0m \u001b[0mos_fspath\u001b[0m\u001b[0;34m(\u001b[0m\u001b[0mfname\u001b[0m\u001b[0;34m)\u001b[0m\u001b[0;34m\u001b[0m\u001b[0m\n\u001b[1;32m    961\u001b[0m         \u001b[0;32mif\u001b[0m \u001b[0m_is_string_like\u001b[0m\u001b[0;34m(\u001b[0m\u001b[0mfname\u001b[0m\u001b[0;34m)\u001b[0m\u001b[0;34m:\u001b[0m\u001b[0;34m\u001b[0m\u001b[0m\n\u001b[0;32m--> 962\u001b[0;31m             \u001b[0mfh\u001b[0m \u001b[0;34m=\u001b[0m \u001b[0mnp\u001b[0m\u001b[0;34m.\u001b[0m\u001b[0mlib\u001b[0m\u001b[0;34m.\u001b[0m\u001b[0m_datasource\u001b[0m\u001b[0;34m.\u001b[0m\u001b[0mopen\u001b[0m\u001b[0;34m(\u001b[0m\u001b[0mfname\u001b[0m\u001b[0;34m,\u001b[0m \u001b[0;34m'rt'\u001b[0m\u001b[0;34m,\u001b[0m \u001b[0mencoding\u001b[0m\u001b[0;34m=\u001b[0m\u001b[0mencoding\u001b[0m\u001b[0;34m)\u001b[0m\u001b[0;34m\u001b[0m\u001b[0m\n\u001b[0m\u001b[1;32m    963\u001b[0m             \u001b[0mfencoding\u001b[0m \u001b[0;34m=\u001b[0m \u001b[0mgetattr\u001b[0m\u001b[0;34m(\u001b[0m\u001b[0mfh\u001b[0m\u001b[0;34m,\u001b[0m \u001b[0;34m'encoding'\u001b[0m\u001b[0;34m,\u001b[0m \u001b[0;34m'latin1'\u001b[0m\u001b[0;34m)\u001b[0m\u001b[0;34m\u001b[0m\u001b[0m\n\u001b[1;32m    964\u001b[0m             \u001b[0mfh\u001b[0m \u001b[0;34m=\u001b[0m \u001b[0miter\u001b[0m\u001b[0;34m(\u001b[0m\u001b[0mfh\u001b[0m\u001b[0;34m)\u001b[0m\u001b[0;34m\u001b[0m\u001b[0m\n",
      "\u001b[0;32m/home/fangyuan/anaconda3/envs/py2/lib/python2.7/site-packages/numpy/lib/_datasource.pyc\u001b[0m in \u001b[0;36mopen\u001b[0;34m(path, mode, destpath, encoding, newline)\u001b[0m\n\u001b[1;32m    264\u001b[0m \u001b[0;34m\u001b[0m\u001b[0m\n\u001b[1;32m    265\u001b[0m     \u001b[0mds\u001b[0m \u001b[0;34m=\u001b[0m \u001b[0mDataSource\u001b[0m\u001b[0;34m(\u001b[0m\u001b[0mdestpath\u001b[0m\u001b[0;34m)\u001b[0m\u001b[0;34m\u001b[0m\u001b[0m\n\u001b[0;32m--> 266\u001b[0;31m     \u001b[0;32mreturn\u001b[0m \u001b[0mds\u001b[0m\u001b[0;34m.\u001b[0m\u001b[0mopen\u001b[0m\u001b[0;34m(\u001b[0m\u001b[0mpath\u001b[0m\u001b[0;34m,\u001b[0m \u001b[0mmode\u001b[0m\u001b[0;34m,\u001b[0m \u001b[0mencoding\u001b[0m\u001b[0;34m=\u001b[0m\u001b[0mencoding\u001b[0m\u001b[0;34m,\u001b[0m \u001b[0mnewline\u001b[0m\u001b[0;34m=\u001b[0m\u001b[0mnewline\u001b[0m\u001b[0;34m)\u001b[0m\u001b[0;34m\u001b[0m\u001b[0m\n\u001b[0m\u001b[1;32m    267\u001b[0m \u001b[0;34m\u001b[0m\u001b[0m\n\u001b[1;32m    268\u001b[0m \u001b[0;34m\u001b[0m\u001b[0m\n",
      "\u001b[0;32m/home/fangyuan/anaconda3/envs/py2/lib/python2.7/site-packages/numpy/lib/_datasource.pyc\u001b[0m in \u001b[0;36mopen\u001b[0;34m(self, path, mode, encoding, newline)\u001b[0m\n\u001b[1;32m    622\u001b[0m                                       encoding=encoding, newline=newline)\n\u001b[1;32m    623\u001b[0m         \u001b[0;32melse\u001b[0m\u001b[0;34m:\u001b[0m\u001b[0;34m\u001b[0m\u001b[0m\n\u001b[0;32m--> 624\u001b[0;31m             \u001b[0;32mraise\u001b[0m \u001b[0mIOError\u001b[0m\u001b[0;34m(\u001b[0m\u001b[0;34m\"%s not found.\"\u001b[0m \u001b[0;34m%\u001b[0m \u001b[0mpath\u001b[0m\u001b[0;34m)\u001b[0m\u001b[0;34m\u001b[0m\u001b[0m\n\u001b[0m\u001b[1;32m    625\u001b[0m \u001b[0;34m\u001b[0m\u001b[0m\n\u001b[1;32m    626\u001b[0m \u001b[0;34m\u001b[0m\u001b[0m\n",
      "\u001b[0;31mIOError\u001b[0m: ../data/geneset/REACTOME_IMMUNE_SYSTEM.txt not found."
     ]
    }
   ],
   "source": [
    "bg_nodes = np.loadtxt('../data/geneset/REACTOME_IMMUNE_SYSTEM.txt',dtype='object')[2:]\n",
    "bg_nodes"
   ]
  },
  {
   "cell_type": "code",
   "execution_count": null,
   "metadata": {},
   "outputs": [],
   "source": []
  },
  {
   "cell_type": "code",
   "execution_count": null,
   "metadata": {},
   "outputs": [],
   "source": []
  },
  {
   "cell_type": "code",
   "execution_count": 7,
   "metadata": {
    "ExecuteTime": {
     "end_time": "2020-08-05T02:27:54.617096Z",
     "start_time": "2020-08-05T02:27:54.563723Z"
    }
   },
   "outputs": [],
   "source": [
    "source_dict = pd.read_csv('../data/network/string_mapping_DrugTargetsHannah.tsv',sep='\\t', index_col=1)['stringId']\n",
    "source = pd.read_csv('../data/network/Both_targets.csv', index_col=0)['Target']\n"
   ]
  },
  {
   "cell_type": "code",
   "execution_count": 8,
   "metadata": {
    "ExecuteTime": {
     "end_time": "2020-08-05T02:27:55.010347Z",
     "start_time": "2020-08-05T02:27:54.997124Z"
    }
   },
   "outputs": [
    {
     "name": "stdout",
     "output_type": "stream",
     "text": [
      "(121, 184)\n"
     ]
    }
   ],
   "source": [
    "m1 = pd.read_csv('../data/network/string_mapping_TargetModule_IFN.tsv',sep='\\t', index_col=1)['stringId'].tolist()\n",
    "m2 = pd.read_csv('../data/network/string_mapping_TargetModule_cytokine.tsv',sep='\\t', index_col=1)['stringId'].tolist()\n",
    "\n",
    "print(len(m1), len(m2))\n",
    "\n",
    "module_dict = {\n",
    "    'IFN':m1,\n",
    "    'Cytokine':m2,\n",
    "}"
   ]
  },
  {
   "cell_type": "code",
   "execution_count": 9,
   "metadata": {
    "ExecuteTime": {
     "end_time": "2020-08-05T02:27:57.238333Z",
     "start_time": "2020-08-05T02:27:57.188092Z"
    }
   },
   "outputs": [
    {
     "ename": "TypeError",
     "evalue": "'NoneType' object is not iterable",
     "output_type": "error",
     "traceback": [
      "\u001b[0;31m-----------------------------------------------------------------\u001b[0m",
      "\u001b[0;31mTypeError\u001b[0m                       Traceback (most recent call last)",
      "\u001b[0;32m<ipython-input-9-b81e46aebe8b>\u001b[0m in \u001b[0;36m<module>\u001b[0;34m()\u001b[0m\n\u001b[1;32m     11\u001b[0m \u001b[0;34m\u001b[0m\u001b[0m\n\u001b[1;32m     12\u001b[0m         \u001b[0mnodes_to_ensp\u001b[0m \u001b[0;34m=\u001b[0m \u001b[0;34m[\u001b[0m\u001b[0mx\u001b[0m \u001b[0;32mfor\u001b[0m \u001b[0mx\u001b[0m \u001b[0;32min\u001b[0m \u001b[0mnodes_to\u001b[0m \u001b[0;32mif\u001b[0m \u001b[0mx\u001b[0m \u001b[0;32min\u001b[0m \u001b[0mnodes_net\u001b[0m\u001b[0;34m]\u001b[0m\u001b[0;34m\u001b[0m\u001b[0m\n\u001b[0;32m---> 13\u001b[0;31m         \u001b[0md\u001b[0m\u001b[0;34m,\u001b[0m \u001b[0mz\u001b[0m\u001b[0;34m,\u001b[0m \u001b[0;34m(\u001b[0m\u001b[0mmean\u001b[0m\u001b[0;34m,\u001b[0m \u001b[0msd\u001b[0m\u001b[0;34m)\u001b[0m \u001b[0;34m=\u001b[0m \u001b[0mwrappers\u001b[0m\u001b[0;34m.\u001b[0m\u001b[0mcalculate_proximity\u001b[0m\u001b[0;34m(\u001b[0m\u001b[0mnetwork\u001b[0m\u001b[0;34m,\u001b[0m \u001b[0mnodes_from_ensp\u001b[0m\u001b[0;34m,\u001b[0m \u001b[0mnodes_to_ensp\u001b[0m\u001b[0;34m,\u001b[0m \u001b[0mmin_bin_size\u001b[0m \u001b[0;34m=\u001b[0m \u001b[0;36m1000\u001b[0m\u001b[0;34m,\u001b[0m \u001b[0mseed\u001b[0m\u001b[0;34m=\u001b[0m\u001b[0;36m452456\u001b[0m\u001b[0;34m)\u001b[0m\u001b[0;34m\u001b[0m\u001b[0m\n\u001b[0m\u001b[1;32m     14\u001b[0m         \u001b[0;32mprint\u001b[0m\u001b[0;34m(\u001b[0m\u001b[0;34m'##'\u001b[0m\u001b[0;34m,\u001b[0m\u001b[0md\u001b[0m\u001b[0;34m,\u001b[0m\u001b[0mz\u001b[0m\u001b[0;34m)\u001b[0m\u001b[0;34m\u001b[0m\u001b[0m\n\u001b[1;32m     15\u001b[0m         \u001b[0mtmp\u001b[0m\u001b[0;34m.\u001b[0m\u001b[0mextend\u001b[0m\u001b[0;34m(\u001b[0m\u001b[0;34m[\u001b[0m\u001b[0md\u001b[0m\u001b[0;34m,\u001b[0m\u001b[0mz\u001b[0m\u001b[0;34m,\u001b[0m\u001b[0mmean\u001b[0m\u001b[0;34m,\u001b[0m\u001b[0msd\u001b[0m\u001b[0;34m]\u001b[0m\u001b[0;34m)\u001b[0m\u001b[0;34m\u001b[0m\u001b[0m\n",
      "\u001b[0;31mTypeError\u001b[0m: 'NoneType' object is not iterable"
     ]
    }
   ],
   "source": [
    "res_list = []\n",
    "nodes_net = list(network.nodes)\n",
    "\n",
    "for drug in source.index:\n",
    "    \n",
    "    tmp = []\n",
    "    nodes_from = [x.strip() for x in source[drug].split(',')]\n",
    "    nodes_from_ensp = [source_dict[x] for x in nodes_from if source_dict[x] in nodes_net]\n",
    "    \n",
    "    for module_name, nodes_to in module_dict.items():\n",
    "        \n",
    "        nodes_to_ensp = [x for x in nodes_to if x in nodes_net]\n",
    "        d, z, (mean, sd) = wrappers.calculate_proximity(network, nodes_from_ensp, nodes_to_ensp, min_bin_size = 1000, seed=452456)\n",
    "        print('##',d,z)\n",
    "        tmp.extend([d,z,mean,sd])\n",
    "    \n",
    "    res_list.append(tmp)\n",
    "    \n",
    "res_df = pd.DataFrame(data=np.array(res_list), index=source.index, columns=[m+'_'+x\n",
    "                                                                            for m in module_dict for x in ['d','z','mean','sd']])"
   ]
  },
  {
   "cell_type": "code",
   "execution_count": null,
   "metadata": {
    "ExecuteTime": {
     "end_time": "2020-08-03T20:30:18.350112Z",
     "start_time": "2020-08-03T20:30:18.328565Z"
    }
   },
   "outputs": [],
   "source": [
    "wrappers.calculate_proximity(network, nodes_from_ensp, nodes_to_ensp, min_bin_size = 2, seed=452456)"
   ]
  },
  {
   "cell_type": "markdown",
   "metadata": {},
   "source": [
    "# Sketch"
   ]
  },
  {
   "cell_type": "raw",
   "metadata": {
    "ExecuteTime": {
     "end_time": "2020-08-05T02:22:59.764885Z",
     "start_time": "2020-08-05T02:22:59.755076Z"
    }
   },
   "source": [
    "net_nodes = snet['protein1'].unique().tolist()\n",
    "len(m1),len(set(m1) & set(net_nodes)), len(m2),len(set(m2) & set(net_nodes))"
   ]
  },
  {
   "cell_type": "markdown",
   "metadata": {},
   "source": [
    "## Network Calc"
   ]
  },
  {
   "cell_type": "markdown",
   "metadata": {},
   "source": [
    "Network and dist can workout"
   ]
  },
  {
   "cell_type": "code",
   "execution_count": null,
   "metadata": {
    "ExecuteTime": {
     "end_time": "2020-08-03T20:16:06.012462Z",
     "start_time": "2020-08-03T20:16:03.078677Z"
    }
   },
   "outputs": [],
   "source": [
    "# from toolbox import network_utilities\n",
    "# ?network_utilities.get_nodes_and_edges_from_sif_file\n",
    "# from toolbox import wrappers\n",
    "# import pandas as pd\n",
    "# import pickle"
   ]
  },
  {
   "cell_type": "code",
   "execution_count": null,
   "metadata": {
    "ExecuteTime": {
     "end_time": "2020-08-03T21:21:09.021905Z",
     "start_time": "2020-08-03T21:21:09.012236Z"
    }
   },
   "outputs": [],
   "source": [
    "import networkx\n",
    "networkx.__path__"
   ]
  },
  {
   "cell_type": "code",
   "execution_count": null,
   "metadata": {
    "ExecuteTime": {
     "end_time": "2020-08-03T20:16:06.544338Z",
     "start_time": "2020-08-03T20:16:06.022936Z"
    }
   },
   "outputs": [],
   "source": [
    "# use py2 \n",
    "file_name = \"proximity/data/toy.sif\"\n",
    "network = wrappers.get_network(file_name, only_lcc = True, use_edge_data=True)\n",
    "\n",
    "nodes_from = [\"A\", \"C\"]\n",
    "nodes_to = [\"B\", \"D\", \"E\"]\n",
    "d, z, (mean, sd) = wrappers.calculate_proximity(network, nodes_from, nodes_to, min_bin_size = 2, seed=452456)\n",
    "# to use edge weight in calc, use vscode debug\n",
    "# I modified toolbox/network_utilities.py line 283, return networkx.shortest_path_length(G, source_id, target_id, weight='w')(added weight='w' to consider weight)\n",
    "print (d, z, (mean, sd))\n",
    "network.edges.data('w')"
   ]
  },
  {
   "cell_type": "markdown",
   "metadata": {},
   "source": [
    "Net can be input with weight, Dist can be calc with weight"
   ]
  },
  {
   "cell_type": "code",
   "execution_count": null,
   "metadata": {
    "ExecuteTime": {
     "end_time": "2020-08-03T14:28:41.668065Z",
     "start_time": "2020-08-03T14:28:41.654568Z"
    }
   },
   "outputs": [],
   "source": [
    "network"
   ]
  },
  {
   "cell_type": "code",
   "execution_count": null,
   "metadata": {
    "ExecuteTime": {
     "end_time": "2020-08-03T14:45:00.771303Z",
     "start_time": "2020-08-03T14:45:00.764869Z"
    }
   },
   "outputs": [],
   "source": [
    "for e,w in network.edges.iteritems():\n",
    "    u,v = e\n",
    "    network[u][v]['weight']=.1 #,{'w':w})"
   ]
  },
  {
   "cell_type": "code",
   "execution_count": null,
   "metadata": {
    "ExecuteTime": {
     "end_time": "2020-08-03T14:45:02.828990Z",
     "start_time": "2020-08-03T14:45:02.811155Z"
    }
   },
   "outputs": [],
   "source": [
    "network.edges.data('weight')"
   ]
  },
  {
   "cell_type": "code",
   "execution_count": null,
   "metadata": {
    "ExecuteTime": {
     "end_time": "2020-08-03T14:47:43.852676Z",
     "start_time": "2020-08-03T14:47:43.840535Z"
    }
   },
   "outputs": [],
   "source": [
    "from networkx.algorithms.shortest_paths.generic import shortest_path_length\n",
    "\n",
    "shortest_path_length(network,'C','F', weight=None), shortest_path_length(network,'C','F', weight='weight')\n"
   ]
  },
  {
   "cell_type": "code",
   "execution_count": null,
   "metadata": {
    "ExecuteTime": {
     "end_time": "2020-08-03T20:58:43.396686Z",
     "start_time": "2020-08-03T20:58:43.372102Z"
    }
   },
   "outputs": [],
   "source": [
    "tmp.head(3)"
   ]
  },
  {
   "cell_type": "code",
   "execution_count": null,
   "metadata": {
    "ExecuteTime": {
     "end_time": "2020-08-03T20:59:39.594109Z",
     "start_time": "2020-08-03T20:59:38.718857Z"
    }
   },
   "outputs": [],
   "source": [
    "tmp = pd.read_csv('../data/network/lung_PPI.txt', sep='\\t')\n",
    "tmp['w'] = [1]*tmp.shape[0]\n",
    "tmp = tmp[['protein1','w','protein2']]\n",
    "tmp.to_csv('../data/network/lung_PPI.sif', sep='\\t', index=False)\n",
    "\n",
    "net = wrappers.get_network('../data/network/lung_PPI.sif',only_lcc = True, use_edge_data=False)\n",
    "net"
   ]
  },
  {
   "cell_type": "code",
   "execution_count": null,
   "metadata": {},
   "outputs": [],
   "source": []
  },
  {
   "cell_type": "code",
   "execution_count": null,
   "metadata": {},
   "outputs": [],
   "source": []
  },
  {
   "cell_type": "markdown",
   "metadata": {},
   "source": [
    "## Overlap of Stringdb with Gene modules"
   ]
  },
  {
   "cell_type": "markdown",
   "metadata": {},
   "source": [
    "### A test: DEGs"
   ]
  },
  {
   "cell_type": "code",
   "execution_count": null,
   "metadata": {
    "ExecuteTime": {
     "end_time": "2020-08-03T14:09:51.452058Z",
     "start_time": "2020-08-03T14:09:51.426971Z"
    },
    "scrolled": true
   },
   "outputs": [],
   "source": [
    "up_genes = pd.read_csv('../data/string/string_mapping_input_up_genes.tsv',sep='\\t')['stringId'].values\n",
    "down_genes = pd.read_csv('../data/string/string_mapping_input_down_genes.tsv',sep='\\t')['stringId'].values"
   ]
  },
  {
   "cell_type": "code",
   "execution_count": null,
   "metadata": {
    "ExecuteTime": {
     "end_time": "2020-08-03T14:23:38.277157Z",
     "start_time": "2020-08-03T14:23:35.605441Z"
    }
   },
   "outputs": [],
   "source": [
    "print(len(up_genes),len(down_genes)) \n",
    "\n",
    "print(sum([x in snet['protein1'].tolist() or x in snet['protein2'].tolist() for x in up_genes]))\n",
    "print(sum([x in snet['protein1'].tolist() or x in snet['protein2'].tolist() for x in down_genes]))"
   ]
  },
  {
   "cell_type": "code",
   "execution_count": null,
   "metadata": {},
   "outputs": [],
   "source": [
    "snet['weight'] = [1] * snet.shape[0]\n",
    "snet_o = snet['protein1','weight','protein2']\n",
    "snet_o.to_csv('')"
   ]
  },
  {
   "attachments": {
    "image.png": {
     "image/png": "[encoded data removed]"
    }
   },
   "cell_type": "markdown",
   "metadata": {},
   "source": [
    "### GO: IFN response and cytokines\n",
    "![image.png](attachment:image.png)\n",
    "- Heatmap of Type-I IFN responses was constructed on DEGs belonging to the following GO annotations: GO:0035457, GO:0035458, GO:0035455, GO:0035456, GO:0034340； and add IFN I and III genes themselves\n",
    "- Heatmap as in (D) for genes belonging to GO annotations for cytokine activity and chemokine activity (GO: 0005125, GO: 0008009).\n",
    "- However, although IAV induces a greater number of genes, SARS-CoV-2 generates a unique gene signature enriched for cell death and leukocyte activation, including transcripts such as IL1A and CXCL8 (GO: 0008219 and GO: 0045431; Table S3)"
   ]
  },
  {
   "cell_type": "code",
   "execution_count": null,
   "metadata": {
    "ExecuteTime": {
     "end_time": "2020-08-03T21:38:02.469977Z",
     "start_time": "2020-08-03T21:38:02.461251Z"
    }
   },
   "outputs": [],
   "source": [
    "12107 * 331082  / (3194 * 51648)"
   ]
  },
  {
   "cell_type": "markdown",
   "metadata": {},
   "source": [
    "## Time Estimation"
   ]
  },
  {
   "cell_type": "markdown",
   "metadata": {
    "ExecuteTime": {
     "end_time": "2020-08-05T14:10:22.392867Z",
     "start_time": "2020-08-05T14:10:22.377381Z"
    }
   },
   "source": [
    "``` bash\n",
    "Warning: Ignored extra columns in the file!\n",
    "Shrinking network to its LCC 12479 331370\n",
    "Final shape: 12107 331082\n",
    "(110, 169)\n",
    "('APHA-compound-8', 1, 1)\n",
    "('JAK3-Inhibitor-II', 24, 23)\n",
    "('PU-H71', 1, 1)\n",
    "('Benzatropine', 19, 16)\n",
    "('AS-703026 (Pimasertib)', 2, 2)\n",
    "('7b-cis', 1, 1)\n",
    "('Saracatinib', 5, 5)\n",
    "('WH-4023', 3, 3)\n",
    "('Hydrocortisone', 5, 4)\n",
    "('AZ-628', 3, 3)\n",
    "('Xylazine', 3, 3)\n",
    "('UNC-0321', 2, 2)\n",
    "('GDC-0879', 4, 4)\n",
    "('VU-0415374-1', 3, 3)\n",
    "('Thalidomide', 12, 12)\n",
    "('XMD-1150', 1, 1)\n",
    "('JWE-035', 1, 1)\n",
    "('GANT-58', 3, 3)\n",
    "('RHO-kinase-inhibitor-III (rockout)', 4, 4)\n",
    "('Profenamine', 5, 4)\n",
    "('SB-205384', 3, 3)\n",
    "('GR-235', 5, 5)\n",
    "('SB-590885', 1, 1)\n",
    "('Halometasone', 1, 1)\n",
    "('Desipramine', 39, 21)\n",
    "('Fulvestrant', 7, 7)\n",
    "('KIN001-242', 1, 1)\n",
    "('ALW-II-38-3', 6, 5)\n",
    "('TPCA-1', 26, 26)\n",
    "('Cyproterone', 3, 3)\n",
    "('Apicidin', 12, 12)\n",
    "('Clebopride', 3, 3)\n",
    "('Cisapride', 20, 20)\n",
    "('THM-I-94', 6, 6)\n",
    "('LY-364947', 4, 4)\n",
    "('NBQX', 8, 8)\n",
    "('Dephostatin', 2, 2)\n",
    "('Triprolidine', 1, 1)\n",
    "('Triptolide', 4, 4)\n",
    "('Levocetirizine', 2, 2)\n",
    "('Quercetagetin', 2, 2)\n",
    "('Altrenogest', 1, 1)\n",
    "('EHNA', 9, 9)\n",
    "('RO-3306', 1, 1)\n",
    "('RG-13022', 3, 3)\n",
    "('Isoxsuprine', 1, 1)\n",
    "('Tivozanib', 6, 6)\n",
    "('LY-2140023', 2, 2)\n",
    "('Carteolol', 2, 2)\n",
    "('BRD-A80383043', 2, 2)\n",
    "('ML-9', 4, 3)\n",
    "('Pirlindole', 5, 3)\n",
    "('Droxinostat', 2, 2)\n",
    "('Ciglitazone', 4, 4)\n",
    "('Z-Pro-Prolinal', 2, 1)\n",
    "(55, 230) # 55 drugs computed, 230 hours needed (excluding Fostamatinib with 255 targets and Fedratinib with 64 targets)\n",
    "```"
   ]
  },
  {
   "cell_type": "markdown",
   "metadata": {},
   "source": []
  }
 ],
 "metadata": {
  "kernelspec": {
   "display_name": "py2",
   "language": "python",
   "name": "py2"
  },
  "language_info": {
   "codemirror_mode": {
    "name": "ipython",
    "version": 2
   },
   "file_extension": ".py",
   "mimetype": "text/x-python",
   "name": "python",
   "nbconvert_exporter": "python",
   "pygments_lexer": "ipython2",
   "version": "2.7.15"
  },
  "toc": {
   "base_numbering": 1,
   "nav_menu": {},
   "number_sections": true,
   "sideBar": true,
   "skip_h1_title": false,
   "title_cell": "Table of Contents",
   "title_sidebar": "Contents",
   "toc_cell": false,
   "toc_position": {
    "height": "calc(100% - 180px)",
    "left": "10px",
    "top": "150px",
    "width": "230.797px"
   },
   "toc_section_display": true,
   "toc_window_display": true
  }
 },
 "nbformat": 4,
 "nbformat_minor": 4
}
