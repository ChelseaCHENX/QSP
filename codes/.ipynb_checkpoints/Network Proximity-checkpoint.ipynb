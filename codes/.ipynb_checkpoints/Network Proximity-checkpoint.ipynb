{
 "cells": [
  {
   "cell_type": "markdown",
   "metadata": {},
   "source": [
    "# Header"
   ]
  },
  {
   "cell_type": "markdown",
   "metadata": {},
   "source": [
    "``` bash\n",
    "conda install py2 env\n",
    "install numpy, scipy, networkx, pandas\n",
    "install ipykernel and name it python2\n",
    "```"
   ]
  },
  {
   "cell_type": "code",
   "execution_count": 1,
   "metadata": {
    "ExecuteTime": {
     "end_time": "2020-08-03T20:18:08.625478Z",
     "start_time": "2020-08-03T20:18:06.366047Z"
    }
   },
   "outputs": [
    {
     "name": "stdout",
     "output_type": "stream",
     "text": [
      "GenRev not found, steiner wont work\n",
      "Import error: Negex. Using keyword matching instead\n",
      "DIAMOnD not found and thus will not be available!\n"
     ]
    }
   ],
   "source": [
    "from toolbox import wrappers\n",
    "import pandas as pd\n",
    "import pickle"
   ]
  },
  {
   "cell_type": "markdown",
   "metadata": {},
   "source": [
    "# String network"
   ]
  },
  {
   "cell_type": "markdown",
   "metadata": {},
   "source": [
    "## Background"
   ]
  },
  {
   "cell_type": "code",
   "execution_count": 9,
   "metadata": {
    "ExecuteTime": {
     "end_time": "2020-08-03T17:15:23.414684Z",
     "start_time": "2020-08-03T17:09:20.243016Z"
    }
   },
   "outputs": [
    {
     "name": "stderr",
     "output_type": "stream",
     "text": [
      "/opt/anaconda3/envs/py2/lib/python2.7/site-packages/ipykernel_launcher.py:2: ParserWarning: Falling back to the 'python' engine because the 'c' engine does not support regex separators (separators > 1 char and different from '\\s+' are interpreted as regex); you can avoid this warning by specifying engine='python'.\n",
      "  \n"
     ]
    },
    {
     "name": "stdout",
     "output_type": "stream",
     "text": [
      "(11759454, 16)\n"
     ]
    }
   ],
   "source": [
    "fname = \"../data/string/9606.protein.links.full.v11.0.txt\"\n",
    "net = pd.read_csv(fname,sep='\\s')\n",
    "print(net.shape)"
   ]
  },
  {
   "cell_type": "code",
   "execution_count": 11,
   "metadata": {
    "ExecuteTime": {
     "end_time": "2020-08-03T13:52:27.664599Z",
     "start_time": "2020-08-03T13:52:27.608390Z"
    }
   },
   "outputs": [
    {
     "data": {
      "text/html": [
       "<div>\n",
       "<style scoped>\n",
       "    .dataframe tbody tr th:only-of-type {\n",
       "        vertical-align: middle;\n",
       "    }\n",
       "\n",
       "    .dataframe tbody tr th {\n",
       "        vertical-align: top;\n",
       "    }\n",
       "\n",
       "    .dataframe thead th {\n",
       "        text-align: right;\n",
       "    }\n",
       "</style>\n",
       "<table border=\"1\" class=\"dataframe\">\n",
       "  <thead>\n",
       "    <tr style=\"text-align: right;\">\n",
       "      <th></th>\n",
       "      <th>protein1</th>\n",
       "      <th>protein2</th>\n",
       "      <th>neighborhood</th>\n",
       "      <th>fusion</th>\n",
       "      <th>cooccurence</th>\n",
       "      <th>coexpression</th>\n",
       "      <th>experimental</th>\n",
       "      <th>database</th>\n",
       "      <th>textmining</th>\n",
       "      <th>combined_score</th>\n",
       "    </tr>\n",
       "  </thead>\n",
       "  <tbody>\n",
       "    <tr>\n",
       "      <th>0</th>\n",
       "      <td>9606.ENSP00000000233</td>\n",
       "      <td>9606.ENSP00000272298</td>\n",
       "      <td>0</td>\n",
       "      <td>0</td>\n",
       "      <td>332</td>\n",
       "      <td>62</td>\n",
       "      <td>181</td>\n",
       "      <td>0</td>\n",
       "      <td>125</td>\n",
       "      <td>490</td>\n",
       "    </tr>\n",
       "    <tr>\n",
       "      <th>1</th>\n",
       "      <td>9606.ENSP00000000233</td>\n",
       "      <td>9606.ENSP00000253401</td>\n",
       "      <td>0</td>\n",
       "      <td>0</td>\n",
       "      <td>0</td>\n",
       "      <td>0</td>\n",
       "      <td>186</td>\n",
       "      <td>0</td>\n",
       "      <td>56</td>\n",
       "      <td>198</td>\n",
       "    </tr>\n",
       "    <tr>\n",
       "      <th>2</th>\n",
       "      <td>9606.ENSP00000000233</td>\n",
       "      <td>9606.ENSP00000401445</td>\n",
       "      <td>0</td>\n",
       "      <td>0</td>\n",
       "      <td>0</td>\n",
       "      <td>0</td>\n",
       "      <td>159</td>\n",
       "      <td>0</td>\n",
       "      <td>0</td>\n",
       "      <td>159</td>\n",
       "    </tr>\n",
       "  </tbody>\n",
       "</table>\n",
       "</div>"
      ],
      "text/plain": [
       "               protein1              protein2  neighborhood  fusion  \\\n",
       "0  9606.ENSP00000000233  9606.ENSP00000272298             0       0   \n",
       "1  9606.ENSP00000000233  9606.ENSP00000253401             0       0   \n",
       "2  9606.ENSP00000000233  9606.ENSP00000401445             0       0   \n",
       "\n",
       "   cooccurence  coexpression  experimental  database  textmining  \\\n",
       "0          332            62           181         0         125   \n",
       "1            0             0           186         0          56   \n",
       "2            0             0           159         0           0   \n",
       "\n",
       "   combined_score  \n",
       "0             490  \n",
       "1             198  \n",
       "2             159  "
      ]
     },
     "execution_count": 11,
     "metadata": {},
     "output_type": "execute_result"
    }
   ],
   "source": [
    "net.head(3)"
   ]
  },
  {
   "cell_type": "markdown",
   "metadata": {},
   "source": [
    "## Network weight (string combined score)"
   ]
  },
  {
   "cell_type": "code",
   "execution_count": 1,
   "metadata": {
    "ExecuteTime": {
     "end_time": "2020-08-03T16:18:36.411689Z",
     "start_time": "2020-08-03T16:18:36.388870Z"
    }
   },
   "outputs": [],
   "source": [
    "from calc_string_combined_score import calc_combined_score"
   ]
  },
  {
   "cell_type": "code",
   "execution_count": 5,
   "metadata": {
    "ExecuteTime": {
     "end_time": "2020-08-03T16:27:47.289455Z",
     "start_time": "2020-08-03T16:25:11.380219Z"
    }
   },
   "outputs": [],
   "source": [
    "combined_score_list = calc_combined_score()"
   ]
  },
  {
   "cell_type": "code",
   "execution_count": 6,
   "metadata": {
    "ExecuteTime": {
     "end_time": "2020-08-03T16:28:16.250767Z",
     "start_time": "2020-08-03T16:27:47.295494Z"
    }
   },
   "outputs": [],
   "source": [
    "import pickle\n",
    "\n",
    "with open('../data/string/9606.protein.seleted_fields_combined_score.pkl', 'wb') as f:\n",
    "    pickle.dump(combined_score_list, f)  "
   ]
  },
  {
   "cell_type": "code",
   "execution_count": 8,
   "metadata": {
    "ExecuteTime": {
     "end_time": "2020-08-03T17:09:15.551843Z",
     "start_time": "2020-08-03T17:09:15.530574Z"
    }
   },
   "outputs": [
    {
     "data": {
      "text/plain": [
       "11759454"
      ]
     },
     "execution_count": 8,
     "metadata": {},
     "output_type": "execute_result"
    }
   ],
   "source": [
    "len(combined_score_list)"
   ]
  },
  {
   "cell_type": "code",
   "execution_count": 11,
   "metadata": {
    "ExecuteTime": {
     "end_time": "2020-08-03T18:57:58.979633Z",
     "start_time": "2020-08-03T18:54:05.427094Z"
    }
   },
   "outputs": [],
   "source": [
    "# net['sel_combined_score'] = x\n",
    "with open('../data/string/9606.protein.seleted_fields_with_combined_score.pkl', 'wb') as f:\n",
    "    pickle.dump(net, f)  "
   ]
  },
  {
   "cell_type": "markdown",
   "metadata": {
    "ExecuteTime": {
     "end_time": "2020-08-03T13:57:21.786516Z",
     "start_time": "2020-08-03T13:57:21.084988Z"
    }
   },
   "source": [
    "The minimum required interaction score puts a threshold on the confidence score, such that only interaction above this score are included in the predicted network. Lower score mean more interaction, but also more false positives. The confidence score is the approximate probability that a predicted link exists between two enzymes in the same metabolic map in the KEGG database. Confidence limits are as follows:\n",
    "\n",
    "low confidence - 0.15 (or better),\n",
    "medium confidence - 0.4,\n",
    "high confidence - 0.7,\n",
    "highest confidence - 0.9.\n",
    "\n",
    "In the file: \"protein.links.txt\" are the scores multiplied by 1000?\n",
    "Yes, the scores are multiplies by a factor 1000 (and truncated). 872 in the file means a STRING score of 0.872"
   ]
  },
  {
   "cell_type": "markdown",
   "metadata": {},
   "source": [
    "## Select high confident edges\n",
    "Run from hereafter"
   ]
  },
  {
   "cell_type": "code",
   "execution_count": 6,
   "metadata": {
    "ExecuteTime": {
     "end_time": "2020-08-03T19:04:02.540036Z",
     "start_time": "2020-08-03T19:04:02.458811Z"
    }
   },
   "outputs": [
    {
     "name": "stdout",
     "output_type": "stream",
     "text": [
      "(11759454, 17)\n"
     ]
    },
    {
     "data": {
      "text/html": [
       "<div>\n",
       "<style scoped>\n",
       "    .dataframe tbody tr th:only-of-type {\n",
       "        vertical-align: middle;\n",
       "    }\n",
       "\n",
       "    .dataframe tbody tr th {\n",
       "        vertical-align: top;\n",
       "    }\n",
       "\n",
       "    .dataframe thead th {\n",
       "        text-align: right;\n",
       "    }\n",
       "</style>\n",
       "<table border=\"1\" class=\"dataframe\">\n",
       "  <thead>\n",
       "    <tr style=\"text-align: right;\">\n",
       "      <th></th>\n",
       "      <th>protein1</th>\n",
       "      <th>protein2</th>\n",
       "      <th>neighborhood</th>\n",
       "      <th>neighborhood_transferred</th>\n",
       "      <th>fusion</th>\n",
       "      <th>cooccurence</th>\n",
       "      <th>homology</th>\n",
       "      <th>coexpression</th>\n",
       "      <th>coexpression_transferred</th>\n",
       "      <th>experiments</th>\n",
       "      <th>experiments_transferred</th>\n",
       "      <th>database</th>\n",
       "      <th>database_transferred</th>\n",
       "      <th>textmining</th>\n",
       "      <th>textmining_transferred</th>\n",
       "      <th>combined_score</th>\n",
       "      <th>sel_combined_score</th>\n",
       "    </tr>\n",
       "  </thead>\n",
       "  <tbody>\n",
       "    <tr>\n",
       "      <th>0</th>\n",
       "      <td>9606.ENSP00000000233</td>\n",
       "      <td>9606.ENSP00000272298</td>\n",
       "      <td>0</td>\n",
       "      <td>0</td>\n",
       "      <td>0</td>\n",
       "      <td>332</td>\n",
       "      <td>0</td>\n",
       "      <td>0</td>\n",
       "      <td>62</td>\n",
       "      <td>0</td>\n",
       "      <td>181</td>\n",
       "      <td>0</td>\n",
       "      <td>0</td>\n",
       "      <td>0</td>\n",
       "      <td>125</td>\n",
       "      <td>490</td>\n",
       "      <td>198</td>\n",
       "    </tr>\n",
       "    <tr>\n",
       "      <th>1</th>\n",
       "      <td>9606.ENSP00000000233</td>\n",
       "      <td>9606.ENSP00000253401</td>\n",
       "      <td>0</td>\n",
       "      <td>0</td>\n",
       "      <td>0</td>\n",
       "      <td>0</td>\n",
       "      <td>0</td>\n",
       "      <td>0</td>\n",
       "      <td>0</td>\n",
       "      <td>0</td>\n",
       "      <td>186</td>\n",
       "      <td>0</td>\n",
       "      <td>0</td>\n",
       "      <td>0</td>\n",
       "      <td>56</td>\n",
       "      <td>198</td>\n",
       "      <td>185</td>\n",
       "    </tr>\n",
       "    <tr>\n",
       "      <th>2</th>\n",
       "      <td>9606.ENSP00000000233</td>\n",
       "      <td>9606.ENSP00000401445</td>\n",
       "      <td>0</td>\n",
       "      <td>0</td>\n",
       "      <td>0</td>\n",
       "      <td>0</td>\n",
       "      <td>0</td>\n",
       "      <td>0</td>\n",
       "      <td>0</td>\n",
       "      <td>0</td>\n",
       "      <td>160</td>\n",
       "      <td>0</td>\n",
       "      <td>0</td>\n",
       "      <td>0</td>\n",
       "      <td>0</td>\n",
       "      <td>159</td>\n",
       "      <td>159</td>\n",
       "    </tr>\n",
       "  </tbody>\n",
       "</table>\n",
       "</div>"
      ],
      "text/plain": [
       "               protein1              protein2  neighborhood  \\\n",
       "0  9606.ENSP00000000233  9606.ENSP00000272298             0   \n",
       "1  9606.ENSP00000000233  9606.ENSP00000253401             0   \n",
       "2  9606.ENSP00000000233  9606.ENSP00000401445             0   \n",
       "\n",
       "   neighborhood_transferred  fusion  cooccurence  homology  coexpression  \\\n",
       "0                         0       0          332         0             0   \n",
       "1                         0       0            0         0             0   \n",
       "2                         0       0            0         0             0   \n",
       "\n",
       "   coexpression_transferred  experiments  experiments_transferred  database  \\\n",
       "0                        62            0                      181         0   \n",
       "1                         0            0                      186         0   \n",
       "2                         0            0                      160         0   \n",
       "\n",
       "   database_transferred  textmining  textmining_transferred  combined_score  \\\n",
       "0                     0           0                     125             490   \n",
       "1                     0           0                      56             198   \n",
       "2                     0           0                       0             159   \n",
       "\n",
       "   sel_combined_score  \n",
       "0                 198  \n",
       "1                 185  \n",
       "2                 159  "
      ]
     },
     "execution_count": 6,
     "metadata": {},
     "output_type": "execute_result"
    }
   ],
   "source": [
    "# net = pickle.load(open('../data/string/9606.protein.seleted_fields_with_combined_score.pkl','r'))\n",
    "print(net.shape)\n",
    "net.head(3)"
   ]
  },
  {
   "cell_type": "code",
   "execution_count": 7,
   "metadata": {
    "ExecuteTime": {
     "end_time": "2020-08-03T19:04:20.938811Z",
     "start_time": "2020-08-03T19:04:14.430295Z"
    }
   },
   "outputs": [
    {
     "name": "stdout",
     "output_type": "stream",
     "text": [
      "(662740, 17)\n",
      "(12479,)\n"
     ]
    },
    {
     "data": {
      "text/html": [
       "<div>\n",
       "<style scoped>\n",
       "    .dataframe tbody tr th:only-of-type {\n",
       "        vertical-align: middle;\n",
       "    }\n",
       "\n",
       "    .dataframe tbody tr th {\n",
       "        vertical-align: top;\n",
       "    }\n",
       "\n",
       "    .dataframe thead th {\n",
       "        text-align: right;\n",
       "    }\n",
       "</style>\n",
       "<table border=\"1\" class=\"dataframe\">\n",
       "  <thead>\n",
       "    <tr style=\"text-align: right;\">\n",
       "      <th></th>\n",
       "      <th>protein1</th>\n",
       "      <th>protein2</th>\n",
       "      <th>neighborhood</th>\n",
       "      <th>neighborhood_transferred</th>\n",
       "      <th>fusion</th>\n",
       "      <th>cooccurence</th>\n",
       "      <th>homology</th>\n",
       "      <th>coexpression</th>\n",
       "      <th>coexpression_transferred</th>\n",
       "      <th>experiments</th>\n",
       "      <th>experiments_transferred</th>\n",
       "      <th>database</th>\n",
       "      <th>database_transferred</th>\n",
       "      <th>textmining</th>\n",
       "      <th>textmining_transferred</th>\n",
       "      <th>combined_score</th>\n",
       "      <th>sel_combined_score</th>\n",
       "    </tr>\n",
       "  </thead>\n",
       "  <tbody>\n",
       "    <tr>\n",
       "      <th>15</th>\n",
       "      <td>9606.ENSP00000000233</td>\n",
       "      <td>9606.ENSP00000432568</td>\n",
       "      <td>0</td>\n",
       "      <td>0</td>\n",
       "      <td>0</td>\n",
       "      <td>0</td>\n",
       "      <td>0</td>\n",
       "      <td>0</td>\n",
       "      <td>62</td>\n",
       "      <td>0</td>\n",
       "      <td>63</td>\n",
       "      <td>900</td>\n",
       "      <td>0</td>\n",
       "      <td>0</td>\n",
       "      <td>94</td>\n",
       "      <td>909</td>\n",
       "      <td>904</td>\n",
       "    </tr>\n",
       "    <tr>\n",
       "      <th>16</th>\n",
       "      <td>9606.ENSP00000000233</td>\n",
       "      <td>9606.ENSP00000427900</td>\n",
       "      <td>0</td>\n",
       "      <td>0</td>\n",
       "      <td>0</td>\n",
       "      <td>0</td>\n",
       "      <td>0</td>\n",
       "      <td>0</td>\n",
       "      <td>0</td>\n",
       "      <td>0</td>\n",
       "      <td>131</td>\n",
       "      <td>900</td>\n",
       "      <td>0</td>\n",
       "      <td>0</td>\n",
       "      <td>56</td>\n",
       "      <td>910</td>\n",
       "      <td>909</td>\n",
       "    </tr>\n",
       "    <tr>\n",
       "      <th>40</th>\n",
       "      <td>9606.ENSP00000000233</td>\n",
       "      <td>9606.ENSP00000354878</td>\n",
       "      <td>0</td>\n",
       "      <td>0</td>\n",
       "      <td>0</td>\n",
       "      <td>0</td>\n",
       "      <td>0</td>\n",
       "      <td>0</td>\n",
       "      <td>0</td>\n",
       "      <td>0</td>\n",
       "      <td>131</td>\n",
       "      <td>900</td>\n",
       "      <td>0</td>\n",
       "      <td>0</td>\n",
       "      <td>56</td>\n",
       "      <td>910</td>\n",
       "      <td>909</td>\n",
       "    </tr>\n",
       "  </tbody>\n",
       "</table>\n",
       "</div>"
      ],
      "text/plain": [
       "                protein1              protein2  neighborhood  \\\n",
       "15  9606.ENSP00000000233  9606.ENSP00000432568             0   \n",
       "16  9606.ENSP00000000233  9606.ENSP00000427900             0   \n",
       "40  9606.ENSP00000000233  9606.ENSP00000354878             0   \n",
       "\n",
       "    neighborhood_transferred  fusion  cooccurence  homology  coexpression  \\\n",
       "15                         0       0            0         0             0   \n",
       "16                         0       0            0         0             0   \n",
       "40                         0       0            0         0             0   \n",
       "\n",
       "    coexpression_transferred  experiments  experiments_transferred  database  \\\n",
       "15                        62            0                       63       900   \n",
       "16                         0            0                      131       900   \n",
       "40                         0            0                      131       900   \n",
       "\n",
       "    database_transferred  textmining  textmining_transferred  combined_score  \\\n",
       "15                     0           0                      94             909   \n",
       "16                     0           0                      56             910   \n",
       "40                     0           0                      56             910   \n",
       "\n",
       "    sel_combined_score  \n",
       "15                 904  \n",
       "16                 909  \n",
       "40                 909  "
      ]
     },
     "execution_count": 7,
     "metadata": {},
     "output_type": "execute_result"
    }
   ],
   "source": [
    "thres = 700 # \n",
    "snet = net[(net['coexpression']>thres) | (net['experiments']>thres) | (net['database']>thres)]\n",
    "print(snet.shape)\n",
    "print(snet['protein1'].unique().shape)\n",
    "snet.head(3)"
   ]
  },
  {
   "cell_type": "code",
   "execution_count": 9,
   "metadata": {
    "ExecuteTime": {
     "end_time": "2020-08-03T19:06:28.131189Z",
     "start_time": "2020-08-03T19:06:22.026680Z"
    }
   },
   "outputs": [],
   "source": [
    "with open('../data/network/9606.snet.pkl', 'wb') as f:\n",
    "    pickle.dump(snet, f)  "
   ]
  },
  {
   "cell_type": "code",
   "execution_count": 10,
   "metadata": {
    "ExecuteTime": {
     "end_time": "2020-08-03T19:14:50.995750Z",
     "start_time": "2020-08-03T19:14:49.336345Z"
    }
   },
   "outputs": [
    {
     "name": "stderr",
     "output_type": "stream",
     "text": [
      "/opt/anaconda3/envs/py2/lib/python2.7/site-packages/ipykernel_launcher.py:1: SettingWithCopyWarning: \n",
      "A value is trying to be set on a copy of a slice from a DataFrame.\n",
      "Try using .loc[row_indexer,col_indexer] = value instead\n",
      "\n",
      "See the caveats in the documentation: http://pandas.pydata.org/pandas-docs/stable/indexing.html#indexing-view-versus-copy\n",
      "  \"\"\"Entry point for launching an IPython kernel.\n"
     ]
    }
   ],
   "source": [
    "snet['sel_combined_score'] = snet['sel_combined_score'] / 1000\n",
    "snet = snet[['protein1','sel_combined_score','protein2']]\n",
    "\n",
    "snet.to_csv('../data/network/9606.snet.sif', sep='\\t', header=False, index=False)"
   ]
  },
  {
   "cell_type": "markdown",
   "metadata": {},
   "source": [
    "## Target modules"
   ]
  },
  {
   "cell_type": "markdown",
   "metadata": {},
   "source": [
    "do online conversion from gene name to stringid on [here](https://string-db.org/cgi/input.pl?sessionId=iHDF0pGhGtH7&input_page_active_form=multiple_identifiers)\n",
    "\n",
    "results here ../data/string/string_mapping_*.tsv"
   ]
  },
  {
   "cell_type": "code",
   "execution_count": 2,
   "metadata": {
    "ExecuteTime": {
     "end_time": "2020-08-03T20:18:30.538798Z",
     "start_time": "2020-08-03T20:18:24.578364Z"
    },
    "scrolled": true
   },
   "outputs": [
    {
     "name": "stdout",
     "output_type": "stream",
     "text": [
      "Warning: Ignored extra columns in the file!\n",
      "Shrinking network to its LCC 12479 331370\n",
      "Final shape: 12107 331082\n"
     ]
    },
    {
     "data": {
      "text/plain": [
       "{'w': 0.935}"
      ]
     },
     "execution_count": 2,
     "metadata": {},
     "output_type": "execute_result"
    }
   ],
   "source": [
    "file_name = \"../data/network/9606.snet.sif\"\n",
    "network = wrappers.get_network(file_name, only_lcc = True, use_edge_data = True)\n",
    "\n",
    "network.get_edge_data('9606.ENSP00000339191', '9606.ENSP00000333769','w')"
   ]
  },
  {
   "cell_type": "code",
   "execution_count": 18,
   "metadata": {
    "ExecuteTime": {
     "end_time": "2020-08-03T20:30:40.414265Z",
     "start_time": "2020-08-03T20:30:40.405193Z"
    }
   },
   "outputs": [
    {
     "data": {
      "text/plain": [
       "<networkx.classes.graph.Graph at 0x1a2fe0fe50>"
      ]
     },
     "execution_count": 18,
     "metadata": {},
     "output_type": "execute_result"
    }
   ],
   "source": [
    "network"
   ]
  },
  {
   "cell_type": "code",
   "execution_count": 3,
   "metadata": {
    "ExecuteTime": {
     "end_time": "2020-08-03T20:18:30.610081Z",
     "start_time": "2020-08-03T20:18:30.544054Z"
    }
   },
   "outputs": [
    {
     "data": {
      "text/plain": [
       "queryItem\n",
       "SLC22A6    9606.ENSP00000367102\n",
       "HDAC8      9606.ENSP00000362674\n",
       "EGFR       9606.ENSP00000275493\n",
       "Name: stringId, dtype: object"
      ]
     },
     "execution_count": 3,
     "metadata": {},
     "output_type": "execute_result"
    }
   ],
   "source": [
    "source_dict = pd.read_csv('../data/network/string_mapping_DrugTargetsHannah.tsv',sep='\\t', index_col=1)['stringId']\n",
    "source_dict.head(3)"
   ]
  },
  {
   "cell_type": "code",
   "execution_count": 4,
   "metadata": {
    "ExecuteTime": {
     "end_time": "2020-08-03T20:18:30.634345Z",
     "start_time": "2020-08-03T20:18:30.615254Z"
    }
   },
   "outputs": [
    {
     "data": {
      "text/plain": [
       "Chemical_Name\n",
       "Ochratoxin-a                                                   SLC22A6\n",
       "APHA-compound-8                                                  HDAC8\n",
       "JAK3-Inhibitor-II    EGFR, ALK, JAK1, JAK2, JAK3, LTK, FLT3, TNK2, ...\n",
       "Name: Target, dtype: object"
      ]
     },
     "execution_count": 4,
     "metadata": {},
     "output_type": "execute_result"
    }
   ],
   "source": [
    "source = pd.read_csv('../data/network/Both_targets.csv', index_col=0)['Target']\n",
    "source.head(3)"
   ]
  },
  {
   "cell_type": "code",
   "execution_count": 8,
   "metadata": {
    "ExecuteTime": {
     "end_time": "2020-08-03T20:22:04.866351Z",
     "start_time": "2020-08-03T20:22:04.844472Z"
    }
   },
   "outputs": [],
   "source": [
    "m1 = pd.read_csv('../data/network/string_mapping_TargetModule_IFN.tsv',sep='\\t', index_col=1)['stringId'].tolist()\n",
    "m2 = pd.read_csv('../data/network/string_mapping_TargetModule_cytokine.tsv',sep='\\t', index_col=1)['stringId'].tolist()"
   ]
  },
  {
   "cell_type": "code",
   "execution_count": 9,
   "metadata": {
    "ExecuteTime": {
     "end_time": "2020-08-03T20:22:05.139385Z",
     "start_time": "2020-08-03T20:22:05.132984Z"
    }
   },
   "outputs": [],
   "source": [
    "module_dict = {\n",
    "    'IFN':m1,\n",
    "    'Cytokine':m2,\n",
    "}"
   ]
  },
  {
   "cell_type": "code",
   "execution_count": 10,
   "metadata": {
    "ExecuteTime": {
     "end_time": "2020-08-03T20:22:05.778997Z",
     "start_time": "2020-08-03T20:22:05.769174Z"
    }
   },
   "outputs": [
    {
     "data": {
      "text/plain": [
       "(121, 184)"
      ]
     },
     "execution_count": 10,
     "metadata": {},
     "output_type": "execute_result"
    }
   ],
   "source": [
    "len(m1), len(m2)"
   ]
  },
  {
   "cell_type": "code",
   "execution_count": 21,
   "metadata": {
    "ExecuteTime": {
     "end_time": "2020-08-03T20:36:05.852621Z",
     "start_time": "2020-08-03T20:36:05.773895Z"
    }
   },
   "outputs": [
    {
     "data": {
      "text/plain": [
       "['9606.ENSP00000339191',\n",
       " '9606.ENSP00000460380',\n",
       " '9606.ENSP00000306894',\n",
       " '9606.ENSP00000247219',\n",
       " '9606.ENSP00000287025',\n",
       " '9606.ENSP00000254878',\n",
       " '9606.ENSP00000382379',\n",
       " '9606.ENSP00000341597',\n",
       " '9606.ENSP00000434412',\n",
       " '9606.ENSP00000319060',\n",
       " '9606.ENSP00000366265',\n",
       " '9606.ENSP00000366267',\n",
       " '9606.ENSP00000223369',\n",
       " '9606.ENSP00000381577',\n",
       " '9606.ENSP00000311273',\n",
       " '9606.ENSP00000259939',\n",
       " '9606.ENSP00000223364',\n",
       " '9606.ENSP00000223366',\n",
       " '9606.ENSP00000265339',\n",
       " '9606.ENSP00000340176',\n",
       " '9606.ENSP00000265333',\n",
       " '9606.ENSP00000265627',\n",
       " '9606.ENSP00000317300',\n",
       " '9606.ENSP00000361066',\n",
       " '9606.ENSP00000361064',\n",
       " '9606.ENSP00000406022',\n",
       " '9606.ENSP00000443017',\n",
       " '9606.ENSP00000419005',\n",
       " '9606.ENSP00000420321',\n",
       " '9606.ENSP00000305810',\n",
       " '9606.ENSP00000461386',\n",
       " '9606.ENSP00000363371',\n",
       " '9606.ENSP00000359478',\n",
       " '9606.ENSP00000278927',\n",
       " '9606.ENSP00000363377',\n",
       " '9606.ENSP00000339095',\n",
       " '9606.ENSP00000407193',\n",
       " '9606.ENSP00000303145',\n",
       " '9606.ENSP00000359719',\n",
       " '9606.ENSP00000303149',\n",
       " '9606.ENSP00000222145',\n",
       " '9606.ENSP00000293771',\n",
       " '9606.ENSP00000428540',\n",
       " '9606.ENSP00000350386',\n",
       " '9606.ENSP00000350928',\n",
       " '9606.ENSP00000480987',\n",
       " '9606.ENSP00000361287',\n",
       " '9606.ENSP00000293778',\n",
       " '9606.ENSP00000355156',\n",
       " '9606.ENSP00000355157',\n",
       " '9606.ENSP00000355402',\n",
       " '9606.ENSP00000384109',\n",
       " '9606.ENSP00000337358',\n",
       " '9606.ENSP00000380157',\n",
       " '9606.ENSP00000337354',\n",
       " '9606.ENSP00000219334',\n",
       " '9606.ENSP00000362399',\n",
       " '9606.ENSP00000380150',\n",
       " '9606.ENSP00000338990',\n",
       " '9606.ENSP00000247665',\n",
       " '9606.ENSP00000366482',\n",
       " '9606.ENSP00000250111',\n",
       " '9606.ENSP00000250113',\n",
       " '9606.ENSP00000366488',\n",
       " '9606.ENSP00000321260',\n",
       " '9606.ENSP00000255476',\n",
       " '9606.ENSP00000360882',\n",
       " '9606.ENSP00000360883',\n",
       " '9606.ENSP00000365619',\n",
       " '9606.ENSP00000348565',\n",
       " '9606.ENSP00000234347',\n",
       " '9606.ENSP00000345849',\n",
       " '9606.ENSP00000310657',\n",
       " '9606.ENSP00000239223',\n",
       " '9606.ENSP00000385675',\n",
       " '9606.ENSP00000252840',\n",
       " '9606.ENSP00000331748',\n",
       " '9606.ENSP00000246672',\n",
       " '9606.ENSP00000331210',\n",
       " '9606.ENSP00000218316',\n",
       " '9606.ENSP00000331741',\n",
       " '9606.ENSP00000401678',\n",
       " '9606.ENSP00000312506',\n",
       " '9606.ENSP00000482581',\n",
       " '9606.ENSP00000412324',\n",
       " '9606.ENSP00000416662',\n",
       " '9606.ENSP00000237530',\n",
       " '9606.ENSP00000328777',\n",
       " '9606.ENSP00000247668',\n",
       " '9606.ENSP00000055335',\n",
       " '9606.ENSP00000261837',\n",
       " '9606.ENSP00000394331',\n",
       " '9606.ENSP00000276198',\n",
       " '9606.ENSP00000273968',\n",
       " '9606.ENSP00000276449',\n",
       " '9606.ENSP00000292427',\n",
       " '9606.ENSP00000276440',\n",
       " '9606.ENSP00000328773',\n",
       " '9606.ENSP00000253496',\n",
       " '9606.ENSP00000356172',\n",
       " '9606.ENSP00000374071',\n",
       " '9606.ENSP00000263967',\n",
       " '9606.ENSP00000263966',\n",
       " '9606.ENSP00000483985',\n",
       " '9606.ENSP00000370767',\n",
       " '9606.ENSP00000334798',\n",
       " '9606.ENSP00000370761',\n",
       " '9606.ENSP00000349785',\n",
       " '9606.ENSP00000349781',\n",
       " '9606.ENSP00000475750',\n",
       " '9606.ENSP00000358407',\n",
       " '9606.ENSP00000358400',\n",
       " '9606.ENSP00000302543',\n",
       " '9606.ENSP00000347338',\n",
       " '9606.ENSP00000302548',\n",
       " '9606.ENSP00000476313',\n",
       " '9606.ENSP00000329880',\n",
       " '9606.ENSP00000389948',\n",
       " '9606.ENSP00000285979',\n",
       " '9606.ENSP00000248633',\n",
       " '9606.ENSP00000335062',\n",
       " '9606.ENSP00000335060',\n",
       " '9606.ENSP00000247986',\n",
       " '9606.ENSP00000422554',\n",
       " '9606.ENSP00000436812',\n",
       " '9606.ENSP00000428968',\n",
       " '9606.ENSP00000304250',\n",
       " '9606.ENSP00000309376',\n",
       " '9606.ENSP00000218176',\n",
       " '9606.ENSP00000377471',\n",
       " '9606.ENSP00000217402',\n",
       " '9606.ENSP00000217407',\n",
       " '9606.ENSP00000334198',\n",
       " '9606.ENSP00000391676',\n",
       " '9606.ENSP00000267085',\n",
       " '9606.ENSP00000299766',\n",
       " '9606.ENSP00000299767',\n",
       " '9606.ENSP00000399518',\n",
       " '9606.ENSP00000267082',\n",
       " '9606.ENSP00000399511',\n",
       " '9606.ENSP00000264218',\n",
       " '9606.ENSP00000371419',\n",
       " '9606.ENSP00000242351',\n",
       " '9606.ENSP00000335247',\n",
       " '9606.ENSP00000236826',\n",
       " '9606.ENSP00000346001',\n",
       " '9606.ENSP00000343526',\n",
       " '9606.ENSP00000301019',\n",
       " '9606.ENSP00000463154',\n",
       " '9606.ENSP00000301012',\n",
       " '9606.ENSP00000317686',\n",
       " '9606.ENSP00000253039',\n",
       " '9606.ENSP00000305255',\n",
       " '9606.ENSP00000363571',\n",
       " '9606.ENSP00000363574',\n",
       " '9606.ENSP00000303709',\n",
       " '9606.ENSP00000357440',\n",
       " '9606.ENSP00000352121',\n",
       " '9606.ENSP00000357442',\n",
       " '9606.ENSP00000308022',\n",
       " '9606.ENSP00000363614',\n",
       " '9606.ENSP00000308533',\n",
       " '9606.ENSP00000303706',\n",
       " '9606.ENSP00000308024',\n",
       " '9606.ENSP00000324648',\n",
       " '9606.ENSP00000249923',\n",
       " '9606.ENSP00000367059',\n",
       " '9606.ENSP00000470123',\n",
       " '9606.ENSP00000387710',\n",
       " '9606.ENSP00000367050',\n",
       " '9606.ENSP00000378769',\n",
       " '9606.ENSP00000216756',\n",
       " '9606.ENSP00000296641',\n",
       " '9606.ENSP00000467723',\n",
       " '9606.ENSP00000396379',\n",
       " '9606.ENSP00000439454',\n",
       " '9606.ENSP00000361060',\n",
       " '9606.ENSP00000294064',\n",
       " '9606.ENSP00000294066',\n",
       " '9606.ENSP00000351379',\n",
       " '9606.ENSP00000332591',\n",
       " '9606.ENSP00000332595',\n",
       " '9606.ENSP00000332737',\n",
       " '9606.ENSP00000388723',\n",
       " '9606.ENSP00000429900',\n",
       " '9606.ENSP00000332049',\n",
       " '9606.ENSP00000447001',\n",
       " '9606.ENSP00000462468',\n",
       " '9606.ENSP00000447006',\n",
       " '9606.ENSP00000342924',\n",
       " '9606.ENSP00000345206',\n",
       " '9606.ENSP00000270879',\n",
       " '9606.ENSP00000477868',\n",
       " '9606.ENSP00000300051',\n",
       " '9606.ENSP00000368881',\n",
       " '9606.ENSP00000300056',\n",
       " '9606.ENSP00000368884',\n",
       " '9606.ENSP00000377814',\n",
       " '9606.ENSP00000381717',\n",
       " '9606.ENSP00000035383',\n",
       " '9606.ENSP00000362621',\n",
       " '9606.ENSP00000379412',\n",
       " '9606.ENSP00000366679',\n",
       " '9606.ENSP00000319476',\n",
       " '9606.ENSP00000366673',\n",
       " '9606.ENSP00000358840',\n",
       " '9606.ENSP00000381498',\n",
       " '9606.ENSP00000381148',\n",
       " '9606.ENSP00000373153',\n",
       " '9606.ENSP00000345064',\n",
       " '9606.ENSP00000259895',\n",
       " '9606.ENSP00000381490',\n",
       " '9606.ENSP00000455643',\n",
       " '9606.ENSP00000336741',\n",
       " '9606.ENSP00000336747',\n",
       " '9606.ENSP00000481554',\n",
       " '9606.ENSP00000297261',\n",
       " '9606.ENSP00000445306',\n",
       " '9606.ENSP00000297265',\n",
       " '9606.ENSP00000265104',\n",
       " '9606.ENSP00000293217',\n",
       " '9606.ENSP00000297268',\n",
       " '9606.ENSP00000358247',\n",
       " '9606.ENSP00000386717',\n",
       " '9606.ENSP00000222553',\n",
       " '9606.ENSP00000225275',\n",
       " '9606.ENSP00000358242',\n",
       " '9606.ENSP00000386710',\n",
       " '9606.ENSP00000315768',\n",
       " '9606.ENSP00000167586',\n",
       " '9606.ENSP00000362563',\n",
       " '9606.ENSP00000418842',\n",
       " '9606.ENSP00000326649',\n",
       " '9606.ENSP00000307292',\n",
       " '9606.ENSP00000319217',\n",
       " '9606.ENSP00000331087',\n",
       " '9606.ENSP00000322617',\n",
       " '9606.ENSP00000296682',\n",
       " '9606.ENSP00000261483',\n",
       " '9606.ENSP00000266458',\n",
       " '9606.ENSP00000296684',\n",
       " '9606.ENSP00000367125',\n",
       " '9606.ENSP00000296135',\n",
       " '9606.ENSP00000296130',\n",
       " '9606.ENSP00000261332',\n",
       " '9606.ENSP00000433490',\n",
       " '9606.ENSP00000356920',\n",
       " '9606.ENSP00000448248',\n",
       " '9606.ENSP00000260682',\n",
       " '9606.ENSP00000052754',\n",
       " '9606.ENSP00000304822',\n",
       " '9606.ENSP00000383710',\n",
       " '9606.ENSP00000341785',\n",
       " '9606.ENSP00000221957',\n",
       " '9606.ENSP00000369609',\n",
       " '9606.ENSP00000406909',\n",
       " '9606.ENSP00000347839',\n",
       " '9606.ENSP00000296350',\n",
       " '9606.ENSP00000292301',\n",
       " '9606.ENSP00000219789',\n",
       " '9606.ENSP00000336127',\n",
       " '9606.ENSP00000323696',\n",
       " '9606.ENSP00000407509',\n",
       " '9606.ENSP00000228843',\n",
       " '9606.ENSP00000325203',\n",
       " '9606.ENSP00000349576',\n",
       " '9606.ENSP00000361544',\n",
       " '9606.ENSP00000361540',\n",
       " '9606.ENSP00000235933',\n",
       " '9606.ENSP00000299157',\n",
       " '9606.ENSP00000320924',\n",
       " '9606.ENSP00000419081',\n",
       " '9606.ENSP00000419087',\n",
       " '9606.ENSP00000419085',\n",
       " '9606.ENSP00000364886',\n",
       " '9606.ENSP00000364731',\n",
       " '9606.ENSP00000364885',\n",
       " '9606.ENSP00000232461',\n",
       " '9606.ENSP00000364737',\n",
       " '9606.ENSP00000384716',\n",
       " '9606.ENSP00000219169',\n",
       " '9606.ENSP00000413156',\n",
       " '9606.ENSP00000365280',\n",
       " '9606.ENSP00000413152',\n",
       " '9606.ENSP00000278483',\n",
       " '9606.ENSP00000269305',\n",
       " '9606.ENSP00000369274',\n",
       " '9606.ENSP00000240185',\n",
       " '9606.ENSP00000323967',\n",
       " '9606.ENSP00000288135',\n",
       " '9606.ENSP00000444433',\n",
       " '9606.ENSP00000377262',\n",
       " '9606.ENSP00000383840',\n",
       " '9606.ENSP00000288139',\n",
       " '9606.ENSP00000441158',\n",
       " '9606.ENSP00000377265',\n",
       " '9606.ENSP00000262178',\n",
       " '9606.ENSP00000473411',\n",
       " '9606.ENSP00000355361',\n",
       " '9606.ENSP00000262177',\n",
       " '9606.ENSP00000267415',\n",
       " '9606.ENSP00000364080',\n",
       " '9606.ENSP00000394071',\n",
       " '9606.ENSP00000348959',\n",
       " '9606.ENSP00000356548',\n",
       " '9606.ENSP00000356545',\n",
       " '9606.ENSP00000276055',\n",
       " '9606.ENSP00000356541',\n",
       " '9606.ENSP00000483570',\n",
       " '9606.ENSP00000263881',\n",
       " '9606.ENSP00000333952',\n",
       " '9606.ENSP00000201031',\n",
       " '9606.ENSP00000270310',\n",
       " '9606.ENSP00000318480',\n",
       " '9606.ENSP00000301480',\n",
       " '9606.ENSP00000331556',\n",
       " '9606.ENSP00000293777',\n",
       " '9606.ENSP00000318486',\n",
       " '9606.ENSP00000246117',\n",
       " '9606.ENSP00000246115',\n",
       " '9606.ENSP00000357149',\n",
       " '9606.ENSP00000247930',\n",
       " '9606.ENSP00000339381',\n",
       " '9606.ENSP00000355155',\n",
       " '9606.ENSP00000357633',\n",
       " '9606.ENSP00000361285',\n",
       " '9606.ENSP00000423563',\n",
       " '9606.ENSP00000329471',\n",
       " '9606.ENSP00000414237',\n",
       " '9606.ENSP00000338389',\n",
       " '9606.ENSP00000321196',\n",
       " '9606.ENSP00000321195',\n",
       " '9606.ENSP00000263088',\n",
       " '9606.ENSP00000392407',\n",
       " '9606.ENSP00000360141',\n",
       " '9606.ENSP00000343204',\n",
       " '9606.ENSP00000263080',\n",
       " '9606.ENSP00000359295',\n",
       " '9606.ENSP00000263083',\n",
       " '9606.ENSP00000252677',\n",
       " '9606.ENSP00000483791',\n",
       " '9606.ENSP00000360149',\n",
       " '9606.ENSP00000263087',\n",
       " '9606.ENSP00000263556',\n",
       " '9606.ENSP00000370950',\n",
       " '9606.ENSP00000254051',\n",
       " '9606.ENSP00000298355',\n",
       " '9606.ENSP00000268231',\n",
       " '9606.ENSP00000362817',\n",
       " '9606.ENSP00000263228',\n",
       " '9606.ENSP00000237837',\n",
       " '9606.ENSP00000376333',\n",
       " '9606.ENSP00000376330',\n",
       " '9606.ENSP00000376337',\n",
       " '9606.ENSP00000379174',\n",
       " '9606.ENSP00000229402',\n",
       " '9606.ENSP00000282032',\n",
       " '9606.ENSP00000261037',\n",
       " '9606.ENSP00000329697',\n",
       " '9606.ENSP00000283928',\n",
       " '9606.ENSP00000324122',\n",
       " '9606.ENSP00000400258',\n",
       " '9606.ENSP00000324124',\n",
       " '9606.ENSP00000321447',\n",
       " '9606.ENSP00000337425',\n",
       " '9606.ENSP00000321449',\n",
       " '9606.ENSP00000400252',\n",
       " '9606.ENSP00000380155',\n",
       " '9606.ENSP00000446271',\n",
       " '9606.ENSP00000353732',\n",
       " '9606.ENSP00000337838',\n",
       " '9606.ENSP00000353731',\n",
       " '9606.ENSP00000353734',\n",
       " '9606.ENSP00000380153',\n",
       " '9606.ENSP00000322181',\n",
       " '9606.ENSP00000322180',\n",
       " '9606.ENSP00000286201',\n",
       " '9606.ENSP00000485243',\n",
       " '9606.ENSP00000327694',\n",
       " '9606.ENSP00000342008',\n",
       " '9606.ENSP00000342007',\n",
       " '9606.ENSP00000242728',\n",
       " '9606.ENSP00000242729',\n",
       " '9606.ENSP00000472959',\n",
       " '9606.ENSP00000452007',\n",
       " '9606.ENSP00000300289',\n",
       " '9606.ENSP00000335655',\n",
       " '9606.ENSP00000460547',\n",
       " '9606.ENSP00000279441',\n",
       " '9606.ENSP00000291539',\n",
       " '9606.ENSP00000300283',\n",
       " '9606.ENSP00000481495',\n",
       " '9606.ENSP00000293970',\n",
       " '9606.ENSP00000252799',\n",
       " '9606.ENSP00000251377',\n",
       " '9606.ENSP00000283254',\n",
       " '9606.ENSP00000251372',\n",
       " '9606.ENSP00000341208',\n",
       " '9606.ENSP00000274364',\n",
       " '9606.ENSP00000351520',\n",
       " '9606.ENSP00000274368',\n",
       " '9606.ENSP00000257192',\n",
       " '9606.ENSP00000485066',\n",
       " '9606.ENSP00000341206',\n",
       " '9606.ENSP00000321266',\n",
       " '9606.ENSP00000417222',\n",
       " '9606.ENSP00000373301',\n",
       " '9606.ENSP00000320318',\n",
       " '9606.ENSP00000221166',\n",
       " '9606.ENSP00000397927',\n",
       " '9606.ENSP00000264027',\n",
       " '9606.ENSP00000264025',\n",
       " '9606.ENSP00000264020',\n",
       " '9606.ENSP00000257915',\n",
       " '9606.ENSP00000414904',\n",
       " '9606.ENSP00000414906',\n",
       " '9606.ENSP00000264029',\n",
       " '9606.ENSP00000264028',\n",
       " '9606.ENSP00000367265',\n",
       " '9606.ENSP00000367263',\n",
       " '9606.ENSP00000225474',\n",
       " '9606.ENSP00000346148',\n",
       " '9606.ENSP00000477613',\n",
       " '9606.ENSP00000382356',\n",
       " '9606.ENSP00000320219',\n",
       " '9606.ENSP00000406229',\n",
       " '9606.ENSP00000222120',\n",
       " '9606.ENSP00000222122',\n",
       " '9606.ENSP00000386380',\n",
       " '9606.ENSP00000290953',\n",
       " '9606.ENSP00000420525',\n",
       " '9606.ENSP00000366248',\n",
       " '9606.ENSP00000366249',\n",
       " '9606.ENSP00000366246',\n",
       " '9606.ENSP00000387654',\n",
       " '9606.ENSP00000391249',\n",
       " '9606.ENSP00000278715',\n",
       " '9606.ENSP00000259951',\n",
       " '9606.ENSP00000429842',\n",
       " '9606.ENSP00000303575',\n",
       " '9606.ENSP00000311219',\n",
       " '9606.ENSP00000303570',\n",
       " '9606.ENSP00000359904',\n",
       " '9606.ENSP00000269159',\n",
       " '9606.ENSP00000433001',\n",
       " '9606.ENSP00000403636',\n",
       " '9606.ENSP00000265316',\n",
       " '9606.ENSP00000265641',\n",
       " '9606.ENSP00000265643',\n",
       " '9606.ENSP00000310928',\n",
       " '9606.ENSP00000361042',\n",
       " '9606.ENSP00000406046',\n",
       " '9606.ENSP00000361731',\n",
       " '9606.ENSP00000254854',\n",
       " '9606.ENSP00000393978',\n",
       " '9606.ENSP00000255189',\n",
       " '9606.ENSP00000443194',\n",
       " '9606.ENSP00000363398',\n",
       " '9606.ENSP00000363397',\n",
       " '9606.ENSP00000278903',\n",
       " '9606.ENSP00000278671',\n",
       " '9606.ENSP00000363390',\n",
       " '9606.ENSP00000240618',\n",
       " '9606.ENSP00000240619',\n",
       " '9606.ENSP00000259371',\n",
       " '9606.ENSP00000333725',\n",
       " '9606.ENSP00000408860',\n",
       " '9606.ENSP00000385385',\n",
       " '9606.ENSP00000280258',\n",
       " '9606.ENSP00000240615',\n",
       " '9606.ENSP00000448054',\n",
       " '9606.ENSP00000340841',\n",
       " '9606.ENSP00000340330',\n",
       " '9606.ENSP00000331746',\n",
       " '9606.ENSP00000228438',\n",
       " '9606.ENSP00000421076',\n",
       " '9606.ENSP00000448059',\n",
       " '9606.ENSP00000380602',\n",
       " '9606.ENSP00000331831',\n",
       " '9606.ENSP00000312741',\n",
       " '9606.ENSP00000380605',\n",
       " '9606.ENSP00000219315',\n",
       " '9606.ENSP00000374409',\n",
       " '9606.ENSP00000244769',\n",
       " '9606.ENSP00000219313',\n",
       " '9606.ENSP00000321203',\n",
       " '9606.ENSP00000244763',\n",
       " '9606.ENSP00000366525',\n",
       " '9606.ENSP00000373364',\n",
       " '9606.ENSP00000261811',\n",
       " '9606.ENSP00000261813',\n",
       " '9606.ENSP00000394316',\n",
       " '9606.ENSP00000261819',\n",
       " '9606.ENSP00000310670',\n",
       " '9606.ENSP00000333547',\n",
       " '9606.ENSP00000277541',\n",
       " '9606.ENSP00000370803',\n",
       " '9606.ENSP00000333896',\n",
       " '9606.ENSP00000403614',\n",
       " '9606.ENSP00000209884',\n",
       " '9606.ENSP00000234739',\n",
       " '9606.ENSP00000482564',\n",
       " '9606.ENSP00000362041',\n",
       " '9606.ENSP00000295822',\n",
       " '9606.ENSP00000370125',\n",
       " '9606.ENSP00000384832',\n",
       " '9606.ENSP00000384387',\n",
       " '9606.ENSP00000262719',\n",
       " '9606.ENSP00000412302',\n",
       " '9606.ENSP00000401802',\n",
       " '9606.ENSP00000316454',\n",
       " '9606.ENSP00000356489',\n",
       " '9606.ENSP00000378965',\n",
       " '9606.ENSP00000356481',\n",
       " '9606.ENSP00000356480',\n",
       " '9606.ENSP00000276420',\n",
       " '9606.ENSP00000313169',\n",
       " '9606.ENSP00000369042',\n",
       " '9606.ENSP00000356150',\n",
       " '9606.ENSP00000369731',\n",
       " '9606.ENSP00000284311',\n",
       " '9606.ENSP00000263946',\n",
       " '9606.ENSP00000369738',\n",
       " '9606.ENSP00000350676',\n",
       " '9606.ENSP00000390600',\n",
       " '9606.ENSP00000358460',\n",
       " '9606.ENSP00000482304',\n",
       " '9606.ENSP00000358466',\n",
       " '9606.ENSP00000482306',\n",
       " '9606.ENSP00000358464',\n",
       " '9606.ENSP00000302569',\n",
       " '9606.ENSP00000318197',\n",
       " '9606.ENSP00000375756',\n",
       " '9606.ENSP00000317128',\n",
       " '9606.ENSP00000254322',\n",
       " '9606.ENSP00000259213',\n",
       " '9606.ENSP00000302564',\n",
       " '9606.ENSP00000265807',\n",
       " '9606.ENSP00000264716',\n",
       " '9606.ENSP00000442600',\n",
       " '9606.ENSP00000291232',\n",
       " '9606.ENSP00000457206',\n",
       " '9606.ENSP00000291231',\n",
       " '9606.ENSP00000338191',\n",
       " '9606.ENSP00000265070',\n",
       " '9606.ENSP00000335006',\n",
       " '9606.ENSP00000351100',\n",
       " '9606.ENSP00000335008',\n",
       " '9606.ENSP00000351108',\n",
       " '9606.ENSP00000231524',\n",
       " '9606.ENSP00000288670',\n",
       " '9606.ENSP00000464030',\n",
       " '9606.ENSP00000318878',\n",
       " '9606.ENSP00000377456',\n",
       " '9606.ENSP00000383382',\n",
       " '9606.ENSP00000217420',\n",
       " '9606.ENSP00000217423',\n",
       " '9606.ENSP00000430237',\n",
       " '9606.ENSP00000261835',\n",
       " '9606.ENSP00000339730',\n",
       " '9606.ENSP00000262545',\n",
       " '9606.ENSP00000311984',\n",
       " '9606.ENSP00000296526',\n",
       " '9606.ENSP00000364270',\n",
       " '9606.ENSP00000363553',\n",
       " '9606.ENSP00000363804',\n",
       " '9606.ENSP00000423190',\n",
       " '9606.ENSP00000253055',\n",
       " '9606.ENSP00000364277',\n",
       " '9606.ENSP00000264233',\n",
       " '9606.ENSP00000264230',\n",
       " '9606.ENSP00000414982',\n",
       " '9606.ENSP00000357288',\n",
       " '9606.ENSP00000230124',\n",
       " '9606.ENSP00000359337',\n",
       " '9606.ENSP00000377783',\n",
       " '9606.ENSP00000359339',\n",
       " '9606.ENSP00000262160',\n",
       " '9606.ENSP00000355827',\n",
       " '9606.ENSP00000485398',\n",
       " '9606.ENSP00000480043',\n",
       " '9606.ENSP00000305230',\n",
       " '9606.ENSP00000395196',\n",
       " '9606.ENSP00000357461',\n",
       " '9606.ENSP00000381698',\n",
       " '9606.ENSP00000243644',\n",
       " '9606.ENSP00000401445',\n",
       " '9606.ENSP00000373312',\n",
       " '9606.ENSP00000470142',\n",
       " '9606.ENSP00000269973',\n",
       " '9606.ENSP00000378784',\n",
       " '9606.ENSP00000378786',\n",
       " '9606.ENSP00000354415',\n",
       " '9606.ENSP00000368716',\n",
       " '9606.ENSP00000378782',\n",
       " '9606.ENSP00000392617',\n",
       " '9606.ENSP00000346065',\n",
       " '9606.ENSP00000346067',\n",
       " '9606.ENSP00000318297',\n",
       " '9606.ENSP00000439435',\n",
       " '9606.ENSP00000409315',\n",
       " '9606.ENSP00000361892',\n",
       " '9606.ENSP00000409318',\n",
       " '9606.ENSP00000443551',\n",
       " '9606.ENSP00000290015',\n",
       " '9606.ENSP00000290541',\n",
       " '9606.ENSP00000361895',\n",
       " '9606.ENSP00000376475',\n",
       " '9606.ENSP00000379784',\n",
       " '9606.ENSP00000314807',\n",
       " '9606.ENSP00000376472',\n",
       " '9606.ENSP00000305640',\n",
       " '9606.ENSP00000393566',\n",
       " '9606.ENSP00000303356',\n",
       " '9606.ENSP00000398064',\n",
       " '9606.ENSP00000379390',\n",
       " '9606.ENSP00000372804',\n",
       " '9606.ENSP00000387303',\n",
       " '9606.ENSP00000377878',\n",
       " '9606.ENSP00000368017',\n",
       " '9606.ENSP00000341947',\n",
       " '9606.ENSP00000362608',\n",
       " '9606.ENSP00000222718',\n",
       " '9606.ENSP00000341940',\n",
       " '9606.ENSP00000286548',\n",
       " '9606.ENSP00000277458',\n",
       " '9606.ENSP00000307863',\n",
       " '9606.ENSP00000315743',\n",
       " '9606.ENSP00000366380',\n",
       " '9606.ENSP00000362549',\n",
       " '9606.ENSP00000379430',\n",
       " '9606.ENSP00000366384',\n",
       " '9606.ENSP00000259569',\n",
       " '9606.ENSP00000405252',\n",
       " '9606.ENSP00000196371',\n",
       " '9606.ENSP00000405926',\n",
       " '9606.ENSP00000397261',\n",
       " '9606.ENSP00000345083',\n",
       " '9606.ENSP00000481570',\n",
       " '9606.ENSP00000368572',\n",
       " '9606.ENSP00000481575',\n",
       " '9606.ENSP00000360762',\n",
       " '9606.ENSP00000360761',\n",
       " '9606.ENSP00000351706',\n",
       " '9606.ENSP00000350332',\n",
       " '9606.ENSP00000260447',\n",
       " '9606.ENSP00000293897',\n",
       " '9606.ENSP00000418868',\n",
       " '9606.ENSP00000287490',\n",
       " '9606.ENSP00000358404',\n",
       " '9606.ENSP00000358265',\n",
       " '9606.ENSP00000225296',\n",
       " '9606.ENSP00000402935',\n",
       " '9606.ENSP00000356579',\n",
       " '9606.ENSP00000358262',\n",
       " '9606.ENSP00000440556',\n",
       " '9606.ENSP00000434045',\n",
       " '9606.ENSP00000399888',\n",
       " '9606.ENSP00000341412',\n",
       " '9606.ENSP00000332449',\n",
       " '9606.ENSP00000366030',\n",
       " '9606.ENSP00000366032',\n",
       " '9606.ENSP00000185206',\n",
       " '9606.ENSP00000261313',\n",
       " '9606.ENSP00000336721',\n",
       " '9606.ENSP00000336724',\n",
       " '9606.ENSP00000381129',\n",
       " '9606.ENSP00000297508',\n",
       " '9606.ENSP00000356906',\n",
       " '9606.ENSP00000349430',\n",
       " '9606.ENSP00000356905',\n",
       " '9606.ENSP00000349436',\n",
       " '9606.ENSP00000349437',\n",
       " '9606.ENSP00000309830',\n",
       " '9606.ENSP00000356908',\n",
       " '9606.ENSP00000240851',\n",
       " '9606.ENSP00000221978',\n",
       " '9606.ENSP00000221972',\n",
       " '9606.ENSP00000344352',\n",
       " '9606.ENSP00000375921',\n",
       " '9606.ENSP00000292147',\n",
       " '9606.ENSP00000311405',\n",
       " '9606.ENSP00000363232',\n",
       " '9606.ENSP00000311401',\n",
       " '9606.ENSP00000333395',\n",
       " '9606.ENSP00000240285',\n",
       " '9606.ENSP00000367923',\n",
       " '9606.ENSP00000227752',\n",
       " '9606.ENSP00000350085',\n",
       " '9606.ENSP00000227756',\n",
       " '9606.ENSP00000361562',\n",
       " '9606.ENSP00000320949',\n",
       " '9606.ENSP00000402758',\n",
       " '9606.ENSP00000325326',\n",
       " '9606.ENSP00000227638',\n",
       " '9606.ENSP00000316881',\n",
       " '9606.ENSP00000262375',\n",
       " '9606.ENSP00000262374',\n",
       " '9606.ENSP00000267257',\n",
       " '9606.ENSP00000322898',\n",
       " '9606.ENSP00000380479',\n",
       " '9606.ENSP00000262370',\n",
       " '9606.ENSP00000295491',\n",
       " '9606.ENSP00000364864',\n",
       " '9606.ENSP00000364860',\n",
       " '9606.ENSP00000299178',\n",
       " '9606.ENSP00000292853',\n",
       " '9606.ENSP00000292852',\n",
       " '9606.ENSP00000261170',\n",
       " '9606.ENSP00000369921',\n",
       " '9606.ENSP00000364839',\n",
       " '9606.ENSP00000369927',\n",
       " '9606.ENSP00000444412',\n",
       " '9606.ENSP00000356713',\n",
       " '9606.ENSP00000480828',\n",
       " '9606.ENSP00000313809',\n",
       " '9606.ENSP00000379980',\n",
       " '9606.ENSP00000231061',\n",
       " '9606.ENSP00000265872',\n",
       " '9606.ENSP00000480821',\n",
       " '9606.ENSP00000284142',\n",
       " '9606.ENSP00000415433',\n",
       " '9606.ENSP00000415430',\n",
       " '9606.ENSP00000313803',\n",
       " '9606.ENSP00000225688',\n",
       " '9606.ENSP00000350263',\n",
       " '9606.ENSP00000306614',\n",
       " '9606.ENSP00000301939',\n",
       " '9606.ENSP00000355340',\n",
       " '9606.ENSP00000443824',\n",
       " '9606.ENSP00000267430',\n",
       " '9606.ENSP00000305005',\n",
       " '9606.ENSP00000267436',\n",
       " '9606.ENSP00000262158',\n",
       " '9606.ENSP00000427888',\n",
       " '9606.ENSP00000416523',\n",
       " '9606.ENSP00000388241',\n",
       " '9606.ENSP00000404570',\n",
       " '9606.ENSP00000338010',\n",
       " '9606.ENSP00000422907',\n",
       " '9606.ENSP00000308873',\n",
       " '9606.ENSP00000483228',\n",
       " '9606.ENSP00000483552',\n",
       " '9606.ENSP00000359100',\n",
       " '9606.ENSP00000441543',\n",
       " '9606.ENSP00000418669',\n",
       " '9606.ENSP00000418663',\n",
       " '9606.ENSP00000409126',\n",
       " '9606.ENSP00000357625',\n",
       " '9606.ENSP00000423503',\n",
       " '9606.ENSP00000391088',\n",
       " '9606.ENSP00000307694',\n",
       " '9606.ENSP00000307697',\n",
       " '9606.ENSP00000376911',\n",
       " '9606.ENSP00000285238',\n",
       " '9606.ENSP00000339398',\n",
       " '9606.ENSP00000258034',\n",
       " '9606.ENSP00000329452',\n",
       " '9606.ENSP00000371333',\n",
       " '9606.ENSP00000378207',\n",
       " '9606.ENSP00000371331',\n",
       " '9606.ENSP00000324323',\n",
       " '9606.ENSP00000296805',\n",
       " '9606.ENSP00000310448',\n",
       " '9606.ENSP00000250244',\n",
       " '9606.ENSP00000392423',\n",
       " '9606.ENSP00000365401',\n",
       " '9606.ENSP00000360162',\n",
       " '9606.ENSP00000418008',\n",
       " '9606.ENSP00000418009',\n",
       " '9606.ENSP00000263205',\n",
       " '9606.ENSP00000411532',\n",
       " '9606.ENSP00000263208',\n",
       " '9606.ENSP00000263209',\n",
       " '9606.ENSP00000370421',\n",
       " '9606.ENSP00000304353',\n",
       " '9606.ENSP00000282018',\n",
       " '9606.ENSP00000229179',\n",
       " '9606.ENSP00000420037',\n",
       " '9606.ENSP00000328327',\n",
       " '9606.ENSP00000383178',\n",
       " '9606.ENSP00000325819',\n",
       " '9606.ENSP00000379156',\n",
       " '9606.ENSP00000379157',\n",
       " '9606.ENSP00000376317',\n",
       " '9606.ENSP00000466399',\n",
       " '9606.ENSP00000308720',\n",
       " '9606.ENSP00000466933',\n",
       " '9606.ENSP00000257017',\n",
       " '9606.ENSP00000308725',\n",
       " '9606.ENSP00000476100',\n",
       " '9606.ENSP00000289429',\n",
       " '9606.ENSP00000446252',\n",
       " '9606.ENSP00000346478',\n",
       " '9606.ENSP00000360576',\n",
       " '9606.ENSP00000309052',\n",
       " '9606.ENSP00000328149',\n",
       " '9606.ENSP00000301200',\n",
       " '9606.ENSP00000328144',\n",
       " '9606.ENSP00000399709',\n",
       " '9606.ENSP00000393776',\n",
       " '9606.ENSP00000399700',\n",
       " '9606.ENSP00000344903',\n",
       " '9606.ENSP00000291552',\n",
       " '9606.ENSP00000365437',\n",
       " '9606.ENSP00000371594',\n",
       " '9606.ENSP00000291554',\n",
       " '9606.ENSP00000335632',\n",
       " '9606.ENSP00000335636',\n",
       " '9606.ENSP00000372169',\n",
       " '9606.ENSP00000372160',\n",
       " '9606.ENSP00000234160',\n",
       " '9606.ENSP00000377995',\n",
       " '9606.ENSP00000396052',\n",
       " '9606.ENSP00000381072',\n",
       " '9606.ENSP00000417378',\n",
       " '9606.ENSP00000341885',\n",
       " '9606.ENSP00000282276',\n",
       " '9606.ENSP00000229281',\n",
       " '9606.ENSP00000324804',\n",
       " '9606.ENSP00000379847',\n",
       " '9606.ENSP00000282272',\n",
       " '9606.ENSP00000008938',\n",
       " '9606.ENSP00000379330',\n",
       " '9606.ENSP00000280701',\n",
       " '9606.ENSP00000320376',\n",
       " '9606.ENSP00000379339',\n",
       " '9606.ENSP00000342681',\n",
       " '9606.ENSP00000264005',\n",
       " '9606.ENSP00000397908',\n",
       " '9606.ENSP00000323302',\n",
       " '9606.ENSP00000257974',\n",
       " '9606.ENSP00000477437',\n",
       " '9606.ENSP00000385814',\n",
       " '9606.ENSP00000280706',\n",
       " '9606.ENSP00000231887',\n",
       " '9606.ENSP00000371929',\n",
       " '9606.ENSP00000367714',\n",
       " '9606.ENSP00000382628',\n",
       " '9606.ENSP00000326238',\n",
       " '9606.ENSP00000251535',\n",
       " '9606.ENSP00000455507',\n",
       " '9606.ENSP00000326232',\n",
       " '9606.ENSP00000382334',\n",
       " '9606.ENSP00000290208',\n",
       " '9606.ENSP00000290974',\n",
       " '9606.ENSP00000290759',\n",
       " '9606.ENSP00000290200',\n",
       " '9606.ENSP00000243077',\n",
       " '9606.ENSP00000469468',\n",
       " '9606.ENSP00000365016',\n",
       " '9606.ENSP00000314608',\n",
       " '9606.ENSP00000314606',\n",
       " '9606.ENSP00000303511',\n",
       " '9606.ENSP00000332369',\n",
       " '9606.ENSP00000311095',\n",
       " '9606.ENSP00000435506',\n",
       " '9606.ENSP00000225728',\n",
       " '9606.ENSP00000383145',\n",
       " '9606.ENSP00000340132',\n",
       " '9606.ENSP00000293405',\n",
       " '9606.ENSP00000293404',\n",
       " '9606.ENSP00000480218',\n",
       " '9606.ENSP00000341083',\n",
       " '9606.ENSP00000439170',\n",
       " '9606.ENSP00000252136',\n",
       " '9606.ENSP00000406201',\n",
       " '9606.ENSP00000003100',\n",
       " '9606.ENSP00000373244',\n",
       " '9606.ENSP00000406209',\n",
       " '9606.ENSP00000479536',\n",
       " '9606.ENSP00000282903',\n",
       " '9606.ENSP00000261783',\n",
       " '9606.ENSP00000296585',\n",
       " '9606.ENSP00000229829',\n",
       " '9606.ENSP00000321221',\n",
       " '9606.ENSP00000373340',\n",
       " '9606.ENSP00000374424',\n",
       " '9606.ENSP00000373347',\n",
       " '9606.ENSP00000255305',\n",
       " '9606.ENSP00000244709',\n",
       " '9606.ENSP00000259357',\n",
       " '9606.ENSP00000354643',\n",
       " '9606.ENSP00000381824',\n",
       " '9606.ENSP00000235332',\n",
       " '9606.ENSP00000381823',\n",
       " '9606.ENSP00000340684',\n",
       " '9606.ENSP00000363794',\n",
       " '9606.ENSP00000292672',\n",
       " '9606.ENSP00000361716',\n",
       " '9606.ENSP00000340736',\n",
       " '9606.ENSP00000402584',\n",
       " '9606.ENSP00000331857',\n",
       " '9606.ENSP00000380661',\n",
       " '9606.ENSP00000166139',\n",
       " '9606.ENSP00000476742',\n",
       " '9606.ENSP00000380666',\n",
       " '9606.ENSP00000316476',\n",
       " '9606.ENSP00000264690',\n",
       " '9606.ENSP00000432886',\n",
       " '9606.ENSP00000345985',\n",
       " '9606.ENSP00000338487',\n",
       " '9606.ENSP00000226730',\n",
       " '9606.ENSP00000266646',\n",
       " '9606.ENSP00000365651',\n",
       " '9606.ENSP00000240499',\n",
       " '9606.ENSP00000333568',\n",
       " '9606.ENSP00000313490',\n",
       " '9606.ENSP00000267584',\n",
       " '9606.ENSP00000482548',\n",
       " '9606.ENSP00000355114',\n",
       " '9606.ENSP00000378588',\n",
       " '9606.ENSP00000482540',\n",
       " '9606.ENSP00000482093',\n",
       " '9606.ENSP00000482546',\n",
       " '9606.ENSP00000341625',\n",
       " '9606.ENSP00000220592',\n",
       " '9606.ENSP00000362063',\n",
       " '9606.ENSP00000362060',\n",
       " '9606.ENSP00000295802',\n",
       " '9606.ENSP00000322421',\n",
       " '9606.ENSP00000362068',\n",
       " '9606.ENSP00000219596',\n",
       " '9606.ENSP00000380087',\n",
       " '9606.ENSP00000442837',\n",
       " '9606.ENSP00000270225',\n",
       " '9606.ENSP00000347665',\n",
       " '9606.ENSP00000316512',\n",
       " '9606.ENSP00000337289',\n",
       " '9606.ENSP00000219599',\n",
       " '9606.ENSP00000432083',\n",
       " '9606.ENSP00000356133',\n",
       " '9606.ENSP00000323606',\n",
       " '9606.ENSP00000356134',\n",
       " '9606.ENSP00000263923',\n",
       " '9606.ENSP00000369716',\n",
       " '9606.ENSP00000263925',\n",
       " '9606.ENSP00000365048',\n",
       " '9606.ENSP00000284551',\n",
       " '9606.ENSP00000236192',\n",
       " '9606.ENSP00000246635',\n",
       " '9606.ENSP00000375770',\n",
       " '9606.ENSP00000375777',\n",
       " '9606.ENSP00000412189',\n",
       " '9606.ENSP00000352836',\n",
       " '9606.ENSP00000352834',\n",
       " '9606.ENSP00000254301',\n",
       " '9606.ENSP00000352833',\n",
       " '9606.ENSP00000253462',\n",
       " '9606.ENSP00000238682',\n",
       " '9606.ENSP00000419270',\n",
       " '9606.ENSP00000416951',\n",
       " '9606.ENSP00000416959',\n",
       " '9606.ENSP00000466090',\n",
       " '9606.ENSP00000285930',\n",
       " '9606.ENSP00000258484',\n",
       " '9606.ENSP00000375095',\n",
       " '9606.ENSP00000335029',\n",
       " '9606.ENSP00000335024',\n",
       " '9606.ENSP00000335025',\n",
       " '9606.ENSP00000389900',\n",
       " '9606.ENSP00000483946',\n",
       " '9606.ENSP00000231509',\n",
       " '9606.ENSP00000426909',\n",
       " '9606.ENSP00000299721',\n",
       " '9606.ENSP00000299727',\n",
       " '9606.ENSP00000320147',\n",
       " '9606.ENSP00000364298',\n",
       " '9606.ENSP00000318057',\n",
       " '9606.ENSP00000363827',\n",
       " '9606.ENSP00000363826',\n",
       " '9606.ENSP00000295119',\n",
       " '9606.ENSP00000363822',\n",
       " '9606.ENSP00000371101',\n",
       " '9606.ENSP00000466897',\n",
       " '9606.ENSP00000329153',\n",
       " '9606.ENSP00000264255',\n",
       " '9606.ENSP00000410059',\n",
       " '9606.ENSP00000264257',\n",
       " '9606.ENSP00000378414',\n",
       " '9606.ENSP00000378416',\n",
       " '9606.ENSP00000466898',\n",
       " '9606.ENSP00000483056',\n",
       " '9606.ENSP00000310003',\n",
       " '9606.ENSP00000441283',\n",
       " '9606.ENSP00000483059',\n",
       " '9606.ENSP00000301050',\n",
       " '9606.ENSP00000363616',\n",
       " '9606.ENSP00000355800',\n",
       " '9606.ENSP00000306003',\n",
       " '9606.ENSP00000355809',\n",
       " '9606.ENSP00000282486',\n",
       " '9606.ENSP00000262032',\n",
       " '9606.ENSP00000391942',\n",
       " '9606.ENSP00000243662',\n",
       " '9606.ENSP00000327599',\n",
       " '9606.ENSP00000332887',\n",
       " '9606.ENSP00000352163',\n",
       " '9606.ENSP00000349467',\n",
       " '9606.ENSP00000346046',\n",
       " ...]"
      ]
     },
     "execution_count": 21,
     "metadata": {},
     "output_type": "execute_result"
    }
   ],
   "source": []
  },
  {
   "cell_type": "code",
   "execution_count": null,
   "metadata": {
    "ExecuteTime": {
     "start_time": "2020-08-03T20:39:54.596Z"
    }
   },
   "outputs": [],
   "source": [
    "wrappers.calculate_proximity(network, ['9606.ENSP00000265627','9606.ENSP00000406022'], ['9606.ENSP00000361066'])"
   ]
  },
  {
   "cell_type": "code",
   "execution_count": 23,
   "metadata": {
    "ExecuteTime": {
     "end_time": "2020-08-03T20:37:39.806684Z",
     "start_time": "2020-08-03T20:37:39.710704Z"
    }
   },
   "outputs": [
    {
     "ename": "TypeError",
     "evalue": "'NoneType' object is not iterable",
     "output_type": "error",
     "traceback": [
      "\u001b[0;31m---------------------------------------------------------------------------\u001b[0m",
      "\u001b[0;31mTypeError\u001b[0m                                 Traceback (most recent call last)",
      "\u001b[0;32m<ipython-input-23-70c5e70d6b82>\u001b[0m in \u001b[0;36m<module>\u001b[0;34m()\u001b[0m\n\u001b[1;32m     11\u001b[0m \u001b[0;34m\u001b[0m\u001b[0m\n\u001b[1;32m     12\u001b[0m         \u001b[0mnodes_to_ensp\u001b[0m \u001b[0;34m=\u001b[0m \u001b[0;34m[\u001b[0m\u001b[0mx\u001b[0m \u001b[0;32mfor\u001b[0m \u001b[0mx\u001b[0m \u001b[0;32min\u001b[0m \u001b[0mnodes_to\u001b[0m \u001b[0;32mif\u001b[0m \u001b[0mx\u001b[0m \u001b[0;32min\u001b[0m \u001b[0mnodes_net\u001b[0m\u001b[0;34m]\u001b[0m\u001b[0;34m\u001b[0m\u001b[0m\n\u001b[0;32m---> 13\u001b[0;31m         \u001b[0md\u001b[0m\u001b[0;34m,\u001b[0m \u001b[0mz\u001b[0m\u001b[0;34m,\u001b[0m \u001b[0;34m(\u001b[0m\u001b[0mmean\u001b[0m\u001b[0;34m,\u001b[0m \u001b[0msd\u001b[0m\u001b[0;34m)\u001b[0m \u001b[0;34m=\u001b[0m \u001b[0mwrappers\u001b[0m\u001b[0;34m.\u001b[0m\u001b[0mcalculate_proximity\u001b[0m\u001b[0;34m(\u001b[0m\u001b[0mnetwork\u001b[0m\u001b[0;34m,\u001b[0m \u001b[0mnodes_from_ensp\u001b[0m\u001b[0;34m,\u001b[0m \u001b[0mnodes_to_ensp\u001b[0m\u001b[0;34m,\u001b[0m \u001b[0mmin_bin_size\u001b[0m \u001b[0;34m=\u001b[0m \u001b[0;36m10\u001b[0m\u001b[0;34m,\u001b[0m \u001b[0mseed\u001b[0m\u001b[0;34m=\u001b[0m\u001b[0;36m452456\u001b[0m\u001b[0;34m)\u001b[0m\u001b[0;34m\u001b[0m\u001b[0m\n\u001b[0m\u001b[1;32m     14\u001b[0m         \u001b[0mtmp\u001b[0m\u001b[0;34m.\u001b[0m\u001b[0mextend\u001b[0m\u001b[0;34m(\u001b[0m\u001b[0;34m[\u001b[0m\u001b[0md\u001b[0m\u001b[0;34m,\u001b[0m\u001b[0mz\u001b[0m\u001b[0;34m,\u001b[0m\u001b[0mmean\u001b[0m\u001b[0;34m,\u001b[0m\u001b[0msd\u001b[0m\u001b[0;34m]\u001b[0m\u001b[0;34m)\u001b[0m\u001b[0;34m\u001b[0m\u001b[0m\n\u001b[1;32m     15\u001b[0m \u001b[0;34m\u001b[0m\u001b[0m\n",
      "\u001b[0;31mTypeError\u001b[0m: 'NoneType' object is not iterable"
     ]
    }
   ],
   "source": [
    "res_list = []\n",
    "nodes_net = list(network.nodes)\n",
    "\n",
    "for drug in source.index:\n",
    "    \n",
    "    tmp = []\n",
    "    nodes_from = [x.strip() for x in source[drug].split(',')]\n",
    "    nodes_from_ensp = [source_dict[x] for x in nodes_from if source_dict[x] in nodes_net]\n",
    "    \n",
    "    for module_name, nodes_to in module_dict.items():\n",
    "        \n",
    "        nodes_to_ensp = [x for x in nodes_to if x in nodes_net]\n",
    "        d, z, (mean, sd) = wrappers.calculate_proximity(network, nodes_from_ensp, nodes_to_ensp, min_bin_size = 2, seed=452456)\n",
    "        tmp.extend([d,z,mean,sd])\n",
    "    \n",
    "    res_list.append(tmp)\n",
    "    \n",
    "res_df = pd.DataFrame(data=np.array(res_list), index=source.index, columns=[m+'_'+x\n",
    "                                                                            for m in module_dict for x in ['d','z','mean','sd']])"
   ]
  },
  {
   "cell_type": "code",
   "execution_count": 17,
   "metadata": {
    "ExecuteTime": {
     "end_time": "2020-08-03T20:30:18.350112Z",
     "start_time": "2020-08-03T20:30:18.328565Z"
    }
   },
   "outputs": [],
   "source": [
    "wrappers.calculate_proximity(network, nodes_from_ensp, nodes_to_ensp, min_bin_size = 2, seed=452456)"
   ]
  },
  {
   "cell_type": "markdown",
   "metadata": {},
   "source": [
    "# Sketch"
   ]
  },
  {
   "cell_type": "markdown",
   "metadata": {},
   "source": [
    "## Network Calc"
   ]
  },
  {
   "cell_type": "markdown",
   "metadata": {},
   "source": [
    "Network and dist can workout"
   ]
  },
  {
   "cell_type": "code",
   "execution_count": 1,
   "metadata": {
    "ExecuteTime": {
     "end_time": "2020-08-03T20:16:06.012462Z",
     "start_time": "2020-08-03T20:16:03.078677Z"
    }
   },
   "outputs": [
    {
     "name": "stdout",
     "output_type": "stream",
     "text": [
      "GenRev not found, steiner wont work\n",
      "Import error: Negex. Using keyword matching instead\n",
      "DIAMOnD not found and thus will not be available!\n"
     ]
    }
   ],
   "source": [
    "# from toolbox import network_utilities\n",
    "# ?network_utilities.get_nodes_and_edges_from_sif_file\n",
    "# from toolbox import wrappers\n",
    "# import pandas as pd\n",
    "# import pickle"
   ]
  },
  {
   "cell_type": "code",
   "execution_count": 2,
   "metadata": {
    "ExecuteTime": {
     "end_time": "2020-08-03T20:16:06.544338Z",
     "start_time": "2020-08-03T20:16:06.022936Z"
    }
   },
   "outputs": [
    {
     "name": "stdout",
     "output_type": "stream",
     "text": [
      "Warning: Ignored extra columns in the file!\n",
      "Shrinking network to its LCC 11 15\n",
      "Final shape: 11 15\n",
      "(3.0, 2.85130983524841, (1.608, 0.4881966816765555))\n"
     ]
    },
    {
     "data": {
      "text/plain": [
       "EdgeDataView([('A', 'C', 2.0), ('A', 'B', 2.0), ('A', 'E', 2.0), ('A', 'D', 2.0), ('A', 'G', 100.0), ('A', 'F', 100.0), ('A', 'H', 100.0), ('C', 'K', 100.0), ('C', 'B', 100.0), ('B', 'I', 100.0), ('B', 'J', 100.0), ('B', 'D', 100.0), ('E', 'D', 100.0), ('E', 'F', 100.0), ('D', 'I', 100.0)])"
      ]
     },
     "execution_count": 2,
     "metadata": {},
     "output_type": "execute_result"
    }
   ],
   "source": [
    "# use py2 \n",
    "file_name = \"proximity/data/toy.sif\"\n",
    "network = wrappers.get_network(file_name, only_lcc = True, use_edge_data=True)\n",
    "\n",
    "nodes_from = [\"A\", \"C\"]\n",
    "nodes_to = [\"B\", \"D\", \"E\"]\n",
    "d, z, (mean, sd) = wrappers.calculate_proximity(network, nodes_from, nodes_to, min_bin_size = 2, seed=452456)\n",
    "# to use edge weight in calc, use vscode debug\n",
    "# I modified toolbox/network_utilities.py line 283, return networkx.shortest_path_length(G, source_id, target_id, weight='w')(added weight='w' to consider weight)\n",
    "print (d, z, (mean, sd))\n",
    "network.edges.data('w')"
   ]
  },
  {
   "cell_type": "markdown",
   "metadata": {},
   "source": [
    "Net can be input with weight, Dist can be calc with weight"
   ]
  },
  {
   "cell_type": "code",
   "execution_count": 42,
   "metadata": {
    "ExecuteTime": {
     "end_time": "2020-08-03T14:28:41.668065Z",
     "start_time": "2020-08-03T14:28:41.654568Z"
    }
   },
   "outputs": [
    {
     "data": {
      "text/plain": [
       "<networkx.classes.graph.Graph at 0x1a280a1b50>"
      ]
     },
     "execution_count": 42,
     "metadata": {},
     "output_type": "execute_result"
    }
   ],
   "source": [
    "network"
   ]
  },
  {
   "cell_type": "code",
   "execution_count": 52,
   "metadata": {
    "ExecuteTime": {
     "end_time": "2020-08-03T14:45:00.771303Z",
     "start_time": "2020-08-03T14:45:00.764869Z"
    }
   },
   "outputs": [],
   "source": [
    "for e,w in network.edges.iteritems():\n",
    "    u,v = e\n",
    "    network[u][v]['weight']=.1 #,{'w':w})"
   ]
  },
  {
   "cell_type": "code",
   "execution_count": 53,
   "metadata": {
    "ExecuteTime": {
     "end_time": "2020-08-03T14:45:02.828990Z",
     "start_time": "2020-08-03T14:45:02.811155Z"
    }
   },
   "outputs": [
    {
     "data": {
      "text/plain": [
       "EdgeDataView([('A', 'C', 0.1), ('A', 'B', 0.1), ('A', 'E', 0.1), ('A', 'D', 0.1), ('A', 'G', 0.1), ('A', 'F', 0.1), ('A', 'H', 0.1), ('C', 'K', 0.1), ('C', 'B', 0.1), ('B', 'I', 0.1), ('B', 'J', 0.1), ('B', 'D', 0.1), ('E', 'D', 0.1), ('E', 'F', 0.1), ('D', 'I', 0.1)])"
      ]
     },
     "execution_count": 53,
     "metadata": {},
     "output_type": "execute_result"
    }
   ],
   "source": [
    "network.edges.data('weight')"
   ]
  },
  {
   "cell_type": "code",
   "execution_count": 59,
   "metadata": {
    "ExecuteTime": {
     "end_time": "2020-08-03T14:47:43.852676Z",
     "start_time": "2020-08-03T14:47:43.840535Z"
    }
   },
   "outputs": [
    {
     "data": {
      "text/plain": [
       "(2, 0.2)"
      ]
     },
     "execution_count": 59,
     "metadata": {},
     "output_type": "execute_result"
    }
   ],
   "source": [
    "from networkx.algorithms.shortest_paths.generic import shortest_path_length\n",
    "\n",
    "shortest_path_length(network,'C','F', weight=None), shortest_path_length(network,'C','F', weight='weight')\n"
   ]
  },
  {
   "cell_type": "markdown",
   "metadata": {},
   "source": [
    "## Overlap of Stringdb with Gene modules"
   ]
  },
  {
   "cell_type": "markdown",
   "metadata": {},
   "source": [
    "### A test: DEGs"
   ]
  },
  {
   "cell_type": "code",
   "execution_count": 21,
   "metadata": {
    "ExecuteTime": {
     "end_time": "2020-08-03T14:09:51.452058Z",
     "start_time": "2020-08-03T14:09:51.426971Z"
    },
    "scrolled": true
   },
   "outputs": [],
   "source": [
    "up_genes = pd.read_csv('../data/string/string_mapping_input_up_genes.tsv',sep='\\t')['stringId'].values\n",
    "down_genes = pd.read_csv('../data/string/string_mapping_input_down_genes.tsv',sep='\\t')['stringId'].values"
   ]
  },
  {
   "cell_type": "code",
   "execution_count": 40,
   "metadata": {
    "ExecuteTime": {
     "end_time": "2020-08-03T14:23:38.277157Z",
     "start_time": "2020-08-03T14:23:35.605441Z"
    }
   },
   "outputs": [
    {
     "name": "stdout",
     "output_type": "stream",
     "text": [
      "(108, 59)\n",
      "105\n",
      "54\n"
     ]
    }
   ],
   "source": [
    "print(len(up_genes),len(down_genes)) \n",
    "\n",
    "print(sum([x in snet['protein1'].tolist() or x in snet['protein2'].tolist() for x in up_genes]))\n",
    "print(sum([x in snet['protein1'].tolist() or x in snet['protein2'].tolist() for x in down_genes]))"
   ]
  },
  {
   "cell_type": "code",
   "execution_count": null,
   "metadata": {},
   "outputs": [],
   "source": [
    "snet['weight'] = [1] * snet.shape[0]\n",
    "snet_o = snet['protein1','weight','protein2']\n",
    "snet_o.to_csv('')"
   ]
  },
  {
   "attachments": {
    "image.png": {
     "image/png": "[encoded data removed]"
    }
   },
   "cell_type": "markdown",
   "metadata": {},
   "source": [
    "### GO: IFN response and cytokines\n",
    "![image.png](attachment:image.png)\n",
    "- Heatmap of Type-I IFN responses was constructed on DEGs belonging to the following GO annotations: GO:0035457, GO:0035458, GO:0035455, GO:0035456, GO:0034340； and add IFN I and III genes themselves\n",
    "- Heatmap as in (D) for genes belonging to GO annotations for cytokine activity and chemokine activity (GO: 0005125, GO: 0008009).\n",
    "- However, although IAV induces a greater number of genes, SARS-CoV-2 generates a unique gene signature enriched for cell death and leukocyte activation, including transcripts such as IL1A and CXCL8 (GO: 0008219 and GO: 0045431; Table S3)"
   ]
  },
  {
   "cell_type": "code",
   "execution_count": null,
   "metadata": {},
   "outputs": [],
   "source": []
  }
 ],
 "metadata": {
  "kernelspec": {
   "display_name": "py2",
   "language": "python",
   "name": "py2"
  },
  "language_info": {
   "codemirror_mode": {
    "name": "ipython",
    "version": 2
   },
   "file_extension": ".py",
   "mimetype": "text/x-python",
   "name": "python",
   "nbconvert_exporter": "python",
   "pygments_lexer": "ipython2",
   "version": "2.7.18"
  },
  "toc": {
   "base_numbering": 1,
   "nav_menu": {},
   "number_sections": true,
   "sideBar": true,
   "skip_h1_title": false,
   "title_cell": "Table of Contents",
   "title_sidebar": "Contents",
   "toc_cell": false,
   "toc_position": {
    "height": "calc(100% - 180px)",
    "left": "10px",
    "top": "150px",
    "width": "230.797px"
   },
   "toc_section_display": true,
   "toc_window_display": true
  }
 },
 "nbformat": 4,
 "nbformat_minor": 4
}
